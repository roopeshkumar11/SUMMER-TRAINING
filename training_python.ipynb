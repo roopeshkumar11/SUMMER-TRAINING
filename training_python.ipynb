{
  "nbformat": 4,
  "nbformat_minor": 0,
  "metadata": {
    "colab": {
      "provenance": [],
      "authorship_tag": "ABX9TyP8fVuPdCGRKdSNuHO7Ybj1",
      "include_colab_link": true
    },
    "kernelspec": {
      "name": "python3",
      "display_name": "Python 3"
    },
    "language_info": {
      "name": "python"
    }
  },
  "cells": [
    {
      "cell_type": "markdown",
      "metadata": {
        "id": "view-in-github",
        "colab_type": "text"
      },
      "source": [
        "<a href=\"https://colab.research.google.com/github/roopeshkumar11/SUMMER-TRAINING/blob/main/training_python.ipynb\" target=\"_parent\"><img src=\"https://colab.research.google.com/assets/colab-badge.svg\" alt=\"Open In Colab\"/></a>"
      ]
    },
    {
      "cell_type": "code",
      "execution_count": null,
      "metadata": {
        "colab": {
          "base_uri": "https://localhost:8080/"
        },
        "id": "9nWYn8gA0daR",
        "outputId": "17eff593-4c07-4eed-db29-b27130a9b1dc"
      },
      "outputs": [
        {
          "output_type": "stream",
          "name": "stdout",
          "text": [
            "hello\n"
          ]
        }
      ],
      "source": [
        "print(\"hello\")"
      ]
    },
    {
      "cell_type": "markdown",
      "source": [
        "# New Section"
      ],
      "metadata": {
        "id": "bN8tqVv5hDXc"
      }
    },
    {
      "cell_type": "code",
      "source": [
        "address=\"\"\" mahatama ghandhi\n",
        "gopalpura by pass\n",
        "jaipur\"\"\"\n",
        "\n",
        "print(address)"
      ],
      "metadata": {
        "colab": {
          "base_uri": "https://localhost:8080/"
        },
        "id": "KBoW83vc1R7u",
        "outputId": "7015fac8-9276-4ff3-9f30-ac60ab0df436"
      },
      "execution_count": null,
      "outputs": [
        {
          "output_type": "stream",
          "name": "stdout",
          "text": [
            " mahatama ghandhi\n",
            "gopalpura by pass\n",
            "jaipur\n"
          ]
        }
      ]
    },
    {
      "cell_type": "code",
      "source": [
        "company=\"regex\"\n",
        "year=2024\n",
        "print(f\"company name is {company}  year is {year}\")"
      ],
      "metadata": {
        "colab": {
          "base_uri": "https://localhost:8080/"
        },
        "id": "L_zKHa1B2LtO",
        "outputId": "39a29add-00d5-418d-e680-625398030fde"
      },
      "execution_count": null,
      "outputs": [
        {
          "output_type": "stream",
          "name": "stdout",
          "text": [
            "company name is regex  year is 2024\n"
          ]
        }
      ]
    },
    {
      "cell_type": "code",
      "source": [
        "username=\"roopesh\"\n",
        "msg=f\"hey user {username}\"\n",
        "print(msg)\n",
        "\n",
        "username=\"aman\"\n",
        "print(msg)"
      ],
      "metadata": {
        "colab": {
          "base_uri": "https://localhost:8080/"
        },
        "id": "dR61TAIt22qx",
        "outputId": "9f705661-f5d5-418a-9e04-7b6d901134a5"
      },
      "execution_count": null,
      "outputs": [
        {
          "output_type": "stream",
          "name": "stdout",
          "text": [
            "hey user roopesh\n",
            "hey user roopesh\n"
          ]
        }
      ]
    },
    {
      "cell_type": "code",
      "source": [
        "1+5*4/2-7+8"
      ],
      "metadata": {
        "colab": {
          "base_uri": "https://localhost:8080/"
        },
        "id": "mPFpNCf93Ujg",
        "outputId": "916e7cf7-d0f7-43af-9475-a647271520ae"
      },
      "execution_count": null,
      "outputs": [
        {
          "output_type": "execute_result",
          "data": {
            "text/plain": [
              "12.0"
            ]
          },
          "metadata": {},
          "execution_count": 48
        }
      ]
    },
    {
      "cell_type": "code",
      "source": [
        "#mebership & identity\n",
        "\n",
        "\"j\" in \"jaipur\" #membership\n",
        "\n",
        "\"j\" not in \"jaipur\""
      ],
      "metadata": {
        "colab": {
          "base_uri": "https://localhost:8080/"
        },
        "id": "gJBBtKNg3Un8",
        "outputId": "50077b8f-a0be-424c-89cb-c57875c55266"
      },
      "execution_count": null,
      "outputs": [
        {
          "output_type": "execute_result",
          "data": {
            "text/plain": [
              "False"
            ]
          },
          "metadata": {},
          "execution_count": 49
        }
      ]
    },
    {
      "cell_type": "code",
      "source": [
        "#identity\n",
        "#variable => data tpye\n",
        "#object belong to a class\n",
        "x=10\n",
        "type(x) is int"
      ],
      "metadata": {
        "colab": {
          "base_uri": "https://localhost:8080/"
        },
        "id": "SjvRX4Wj3Upa",
        "outputId": "2b304f29-caef-43aa-cc6f-173e2a98e162"
      },
      "execution_count": null,
      "outputs": [
        {
          "output_type": "execute_result",
          "data": {
            "text/plain": [
              "True"
            ]
          },
          "metadata": {},
          "execution_count": 50
        }
      ]
    },
    {
      "cell_type": "code",
      "source": [
        "x=10\n",
        "type(x) is not int"
      ],
      "metadata": {
        "colab": {
          "base_uri": "https://localhost:8080/"
        },
        "id": "09AlcwLd3UrS",
        "outputId": "76415062-8a67-46c8-d341-740e9c5c4913"
      },
      "execution_count": null,
      "outputs": [
        {
          "output_type": "execute_result",
          "data": {
            "text/plain": [
              "False"
            ]
          },
          "metadata": {},
          "execution_count": 51
        }
      ]
    },
    {
      "cell_type": "code",
      "source": [
        "# == & is\n",
        "\n",
        "x=500\n",
        "y=500"
      ],
      "metadata": {
        "id": "a60Z_Ml53Ut6"
      },
      "execution_count": null,
      "outputs": []
    },
    {
      "cell_type": "code",
      "source": [
        "x==y"
      ],
      "metadata": {
        "colab": {
          "base_uri": "https://localhost:8080/"
        },
        "id": "ytnnUF_43Uxf",
        "outputId": "93edac3f-9b4a-4a50-8226-3ef41a2af387"
      },
      "execution_count": null,
      "outputs": [
        {
          "output_type": "execute_result",
          "data": {
            "text/plain": [
              "True"
            ]
          },
          "metadata": {},
          "execution_count": 53
        }
      ]
    },
    {
      "cell_type": "code",
      "source": [
        "x is y"
      ],
      "metadata": {
        "colab": {
          "base_uri": "https://localhost:8080/"
        },
        "id": "HhAxoqSU91oq",
        "outputId": "0b25b807-bc96-4704-8b73-22c911ee00d1"
      },
      "execution_count": null,
      "outputs": [
        {
          "output_type": "execute_result",
          "data": {
            "text/plain": [
              "False"
            ]
          },
          "metadata": {},
          "execution_count": 54
        }
      ]
    },
    {
      "cell_type": "code",
      "source": [
        "a=10\n",
        "b=69\n",
        "c=5\n",
        "\n",
        "if(a<b and a<c):\n",
        "   print(\"a is min\")\n",
        "elif(b<c ):\n",
        "   print(\" b is min\")\n",
        "else:\n",
        "  print(\"c mim\")\n"
      ],
      "metadata": {
        "colab": {
          "base_uri": "https://localhost:8080/"
        },
        "id": "cDeChUd191rh",
        "outputId": "fec2444e-2c20-4d82-866d-04535eb58e84"
      },
      "execution_count": null,
      "outputs": [
        {
          "output_type": "stream",
          "name": "stdout",
          "text": [
            "c mim\n"
          ]
        }
      ]
    },
    {
      "cell_type": "code",
      "source": [
        "a=int(input(\"enter\"))\n",
        "\n",
        "if(a>80):\n",
        "  print(\"exa\")\n",
        "\n",
        "elif(a>70 and a<80):\n",
        "  print(\"good\")\n",
        "elif(a>60):\n",
        "   print(\"average\")\n",
        "\n",
        "else:\n",
        "  print(\"bad\")"
      ],
      "metadata": {
        "id": "Cptu29_kDD8B"
      },
      "execution_count": null,
      "outputs": []
    },
    {
      "cell_type": "code",
      "source": [
        "#index\n",
        "\n",
        "\n",
        "state=\"Rajasthan\"\n",
        "state[-1]"
      ],
      "metadata": {
        "id": "DS6tJWhI91uX"
      },
      "execution_count": null,
      "outputs": []
    },
    {
      "cell_type": "code",
      "source": [
        "#silceing\n",
        "# [start: stop: [step:1]]\n",
        "\n",
        "print(state[0:4])\n",
        "print(state[0:6])\n",
        "print(state[0:4:2])\n",
        "print(state[0:4:-1])\n"
      ],
      "metadata": {
        "id": "GRM6J2Ul6quO"
      },
      "execution_count": null,
      "outputs": []
    },
    {
      "cell_type": "code",
      "source": [
        "state[-1:-4:-1]"
      ],
      "metadata": {
        "id": "sNnDQ2sB6q3B"
      },
      "execution_count": null,
      "outputs": []
    },
    {
      "cell_type": "code",
      "source": [
        "# loop (repetative)\n",
        " # range(start,stop, [step=1])\n",
        "# for i in range(0,10)\n"
      ],
      "metadata": {
        "id": "FATf8MIF6q7i"
      },
      "execution_count": null,
      "outputs": []
    },
    {
      "cell_type": "code",
      "source": [
        "for i in range(1,5):\n",
        "  print(i)"
      ],
      "metadata": {
        "id": "EY4_wpbn6q-w"
      },
      "execution_count": null,
      "outputs": []
    },
    {
      "cell_type": "code",
      "source": [
        "for i in range(1,8,3):\n",
        "  print(i)"
      ],
      "metadata": {
        "id": "-cRNpK1Q-DFG"
      },
      "execution_count": null,
      "outputs": []
    },
    {
      "cell_type": "code",
      "source": [
        "for i in \"hello\":\n",
        "  print(i)"
      ],
      "metadata": {
        "id": "w74SeTf7-DS5"
      },
      "execution_count": null,
      "outputs": []
    },
    {
      "cell_type": "code",
      "source": [
        "data=\"hello\"\n",
        "print(len(data))"
      ],
      "metadata": {
        "id": "L6q2Ab7_-DWd"
      },
      "execution_count": null,
      "outputs": []
    },
    {
      "cell_type": "code",
      "source": [
        "for index in range(0,5):\n",
        "  print(index,data,data[index])"
      ],
      "metadata": {
        "id": "HgOtrKzo-DYd"
      },
      "execution_count": null,
      "outputs": []
    },
    {
      "cell_type": "code",
      "source": [
        "b=\"ajay\"\n",
        "c=0\n",
        "for i in range(0, len(b)):\n",
        "  c=c+1\n",
        "print(c)\n",
        "\n"
      ],
      "metadata": {
        "id": "XHXpKOjy-Da_"
      },
      "execution_count": null,
      "outputs": []
    },
    {
      "cell_type": "code",
      "source": [
        "find=\"roopesh\"\n",
        "count=0\n",
        "for i in range(0,len(find)):\n",
        "  if(\"a\"==find[i] or \"i\"==find[i] or \"e\"==find[i] or \"o\"==find[i] or \"u\"==find[i]):\n",
        "    count=count+1\n",
        "print(count)"
      ],
      "metadata": {
        "id": "HDx0NMud-DeE"
      },
      "execution_count": null,
      "outputs": []
    },
    {
      "cell_type": "code",
      "source": [
        "for i in range(1,4):\n",
        "  print(\"hello\",i)\n",
        "\n",
        "  for j in range(1,4):\n",
        "    print(\"tushar\",j)"
      ],
      "metadata": {
        "id": "6hJJRRb3-Dg7"
      },
      "execution_count": null,
      "outputs": []
    },
    {
      "cell_type": "code",
      "source": [
        "for i in range(1,4):\n",
        "\n",
        "\n",
        "  for j in range(1,4):\n",
        "    print(\"*\",end=\"\")\n",
        "  print(\" \")\n",
        "\n"
      ],
      "metadata": {
        "id": "IQLp2Y97-DjU"
      },
      "execution_count": null,
      "outputs": []
    },
    {
      "cell_type": "code",
      "source": [
        "for i in range(1,6):\n",
        "\n",
        "\n",
        "  for j in range(1,6):\n",
        "    print(i,end=\"\")\n",
        "  print(\" \")"
      ],
      "metadata": {
        "id": "Iq0deOy7-DnE"
      },
      "execution_count": null,
      "outputs": []
    },
    {
      "cell_type": "code",
      "source": [
        "for i in range(1,6):\n",
        "\n",
        "\n",
        "  for j in range(1,6):\n",
        "    print(j,end=\"\")\n",
        "  print(\" \")"
      ],
      "metadata": {
        "id": "q6SdaDesF500"
      },
      "execution_count": null,
      "outputs": []
    },
    {
      "cell_type": "code",
      "source": [
        "for i in range(1, 6):\n",
        "    for j in range(-5,-0):\n",
        "        print(-j, end=\"\")\n",
        "    print(\" \")\n"
      ],
      "metadata": {
        "id": "eG5s2k1gF55t"
      },
      "execution_count": null,
      "outputs": []
    },
    {
      "cell_type": "code",
      "source": [
        "for i in range(1,6):\n",
        "\n",
        "\n",
        "  for j in range(1,i+1):\n",
        "    print(\"*\",end=\"\")\n",
        "  print(\" \")"
      ],
      "metadata": {
        "id": "S4OWNsBVF58B",
        "colab": {
          "base_uri": "https://localhost:8080/"
        },
        "outputId": "a6056385-8c64-47a4-c937-71988075a63c"
      },
      "execution_count": null,
      "outputs": [
        {
          "output_type": "stream",
          "name": "stdout",
          "text": [
            "* \n",
            "** \n",
            "*** \n",
            "**** \n",
            "***** \n"
          ]
        }
      ]
    },
    {
      "cell_type": "markdown",
      "source": [],
      "metadata": {
        "id": "1u6HiIMdHmAG"
      }
    },
    {
      "cell_type": "code",
      "source": [
        "for i in range(1,6):\n",
        "\n",
        "\n",
        "  for j in range(1,6-i):\n",
        "    print(\"*\",end=\"\")\n",
        "  print(\" \")"
      ],
      "metadata": {
        "id": "miU0TjjBHmp4"
      },
      "execution_count": null,
      "outputs": []
    },
    {
      "cell_type": "code",
      "source": [
        "p=27\n",
        "\n",
        "for i in range(2,27):\n",
        "  if(p%i==0):\n",
        "    print(\"not prime\")\n",
        "    break\n",
        "\n",
        "  else:\n",
        "    {\n",
        "       print(\"prime\")\n",
        "   }\n"
      ],
      "metadata": {
        "id": "e1NouV8KI7Cc"
      },
      "execution_count": null,
      "outputs": []
    },
    {
      "cell_type": "code",
      "source": [
        "for i in range(65,72):\n",
        "\n",
        "\n",
        "  for j in range(1,i+1):\n",
        "    print(chr(j),end=\"\")\n",
        "  print(\" \")"
      ],
      "metadata": {
        "id": "Q48bGUXII7O9"
      },
      "execution_count": null,
      "outputs": []
    },
    {
      "cell_type": "code",
      "source": [
        "for i in range(1,6):\n",
        "\n",
        "\n",
        "  for j in range(1,6-i):\n",
        "    print(\"$\",end=\"\")\n",
        "  for k in range(1,i+1):\n",
        "    print(\"*\",end=\"\")\n",
        "  print(\" \")"
      ],
      "metadata": {
        "id": "E-09B5SzI7S0"
      },
      "execution_count": null,
      "outputs": []
    },
    {
      "cell_type": "code",
      "source": [
        "#while loop\n",
        "\n",
        "i=1\n",
        "while(i<5):\n",
        "  print(\"hello\",i)\n",
        "  i+=1\n",
        "\n"
      ],
      "metadata": {
        "id": "qEQggBeEI7VK"
      },
      "execution_count": null,
      "outputs": []
    },
    {
      "cell_type": "code",
      "source": [
        "#lit:collection of element ,which has index positon\n",
        "#mututable\n",
        "#order collection of element\n"
      ],
      "metadata": {
        "id": "ggVJAZN3I7XQ"
      },
      "execution_count": null,
      "outputs": []
    },
    {
      "cell_type": "code",
      "source": [
        "mylist=[10,20,\"hello\"]\n",
        "print(type(mylist))"
      ],
      "metadata": {
        "id": "mlKWRZXMI7Zo"
      },
      "execution_count": null,
      "outputs": []
    },
    {
      "cell_type": "code",
      "source": [
        "mylist[0]=100"
      ],
      "metadata": {
        "id": "UbYNXqkbI7cx"
      },
      "execution_count": null,
      "outputs": []
    },
    {
      "cell_type": "code",
      "source": [
        "print(mylist[0:15])"
      ],
      "metadata": {
        "id": "34xmdaa96o5V"
      },
      "execution_count": null,
      "outputs": []
    },
    {
      "cell_type": "code",
      "source": [
        "mylist.append(50)\n",
        "print(mylist)"
      ],
      "metadata": {
        "id": "Chg9rSrKJFL6"
      },
      "execution_count": null,
      "outputs": []
    },
    {
      "cell_type": "code",
      "source": [
        "# add multiple elment using extend\n",
        "\n",
        "mylist.extend(\"hey\")\n",
        "print(mylist)"
      ],
      "metadata": {
        "id": "iEAafdMxJFQu"
      },
      "execution_count": null,
      "outputs": []
    },
    {
      "cell_type": "code",
      "source": [
        "mylist.extend([\"hey\"])\n",
        "print(mylist)"
      ],
      "metadata": {
        "id": "-fZj5uT7JFUf"
      },
      "execution_count": null,
      "outputs": []
    },
    {
      "cell_type": "code",
      "source": [
        "help (mylist)"
      ],
      "metadata": {
        "collapsed": true,
        "id": "-rMcLFvhJFXN"
      },
      "execution_count": null,
      "outputs": []
    },
    {
      "cell_type": "code",
      "source": [
        "mylist.pop()\n",
        "print(mylist)"
      ],
      "metadata": {
        "id": "61IucVw1JFaW"
      },
      "execution_count": null,
      "outputs": []
    },
    {
      "cell_type": "code",
      "source": [
        "mylist.remove(\"hello\")\n",
        "print(mylist)"
      ],
      "metadata": {
        "id": "pi5co-sRJFds"
      },
      "execution_count": null,
      "outputs": []
    },
    {
      "cell_type": "code",
      "source": [
        "checklist=[10,20,300,\"heyy\",\"11.5\"]\n",
        "new1=[]\n",
        "for i in checklist:\n",
        "  if(type(i) is int):\n",
        "    new1.append(i**2)\n",
        "print(new1)\n",
        "\n",
        "\n"
      ],
      "metadata": {
        "id": "x2NJZLUAJFgy"
      },
      "execution_count": null,
      "outputs": []
    },
    {
      "cell_type": "code",
      "source": [
        "num=153\n",
        "x=num\n",
        "total=0\n",
        "while(num>0):\n",
        "  rem=num%10\n",
        "  total+=rem**3\n",
        "  num=num//10\n",
        "if(total==x):\n",
        "  print(\"armstrong\")\n",
        "\n",
        "else:\n",
        "  print(\"not arm\")\n",
        "\n",
        "\n"
      ],
      "metadata": {
        "id": "Y7qbZorgJFjZ"
      },
      "execution_count": null,
      "outputs": []
    },
    {
      "cell_type": "code",
      "source": [
        "#tuple\n",
        "#immutable\n",
        "# faster\n",
        "\n",
        "mytuple=10,20,30\n",
        "print(type(mytuple))"
      ],
      "metadata": {
        "id": "EgClzOQNSDQz"
      },
      "execution_count": null,
      "outputs": []
    },
    {
      "cell_type": "code",
      "source": [
        "#only two method count and index\n",
        "print(\"before\",id(mytuple))\n",
        "mytuple=mytuple+(60,70)\n",
        "print(mytuple)\n",
        "print(\"after\",id(mytuple))"
      ],
      "metadata": {
        "id": "9T5ILI4iSDT_"
      },
      "execution_count": null,
      "outputs": []
    },
    {
      "cell_type": "code",
      "source": [
        "#dictionary\n",
        "#collectiom of elment key:value\n",
        "#key:identifier\n",
        "#value\n",
        "#order collection of element\n",
        "\n"
      ],
      "metadata": {
        "id": "3RaSfoUUSDhf"
      },
      "execution_count": null,
      "outputs": []
    },
    {
      "cell_type": "code",
      "source": [
        "mydictinar={10:\"tushar\", 20:\"abhishek\"}\n",
        "mydictinar"
      ],
      "metadata": {
        "id": "2h0lmn9cSDkq"
      },
      "execution_count": null,
      "outputs": []
    },
    {
      "cell_type": "code",
      "source": [
        "#upadte\n",
        "mydictinar[10]=\"aman\"\n",
        "print(mydictinar)\n"
      ],
      "metadata": {
        "id": "M1fIDns3SDnj"
      },
      "execution_count": null,
      "outputs": []
    },
    {
      "cell_type": "code",
      "source": [
        "#insert\n",
        "mydictinar[30]=\"aman\"\n",
        "print(mydictinar)"
      ],
      "metadata": {
        "id": "xLsr7202SDqn"
      },
      "execution_count": null,
      "outputs": []
    },
    {
      "cell_type": "code",
      "source": [
        "#delete\n",
        "mydictinar.pop(10)\n",
        "print(mydictinar)\n",
        "\n"
      ],
      "metadata": {
        "id": "wi-8lep0X2zp"
      },
      "execution_count": null,
      "outputs": []
    },
    {
      "cell_type": "code",
      "source": [
        "sampledic={}\n",
        "for i in \"hello\":\n",
        "\n",
        "  sampledic[i]=1\n",
        "print(sampledic)\n"
      ],
      "metadata": {
        "id": "OSJ4b2CgX3BE"
      },
      "execution_count": null,
      "outputs": []
    },
    {
      "cell_type": "code",
      "source": [
        "# function\n",
        "#block of code\n",
        "\n",
        "# def functname():\n",
        "     # statement\n",
        "\n",
        "def msg(x,y):\n",
        "  print(\"hello\",x,y)\n",
        "  return x+y\n",
        "  return 0\n",
        "\n",
        "\n",
        "out=msg(10,20);  # tushar is argument\n",
        "print(out)\n",
        "\n",
        "\n"
      ],
      "metadata": {
        "id": "0ZdhxCpgX3GQ",
        "colab": {
          "base_uri": "https://localhost:8080/"
        },
        "outputId": "7107f5ac-8ef9-4c6f-c425-bf9b8ec035ae"
      },
      "execution_count": null,
      "outputs": [
        {
          "output_type": "stream",
          "name": "stdout",
          "text": [
            "hello 10 20\n",
            "30\n"
          ]
        }
      ]
    },
    {
      "cell_type": "code",
      "source": [
        "def func(a):\n",
        "  a=a+5\n",
        "\n",
        "\n",
        "a=10\n",
        "print(\"before functio\",a)\n",
        "func(a)\n",
        "print(\"after functio\",a)\n"
      ],
      "metadata": {
        "colab": {
          "base_uri": "https://localhost:8080/"
        },
        "id": "jxnqnKonZbWx",
        "outputId": "2c9f6f76-6a43-4250-b5ff-eeb653203547"
      },
      "execution_count": null,
      "outputs": [
        {
          "output_type": "stream",
          "name": "stdout",
          "text": [
            "before functio 10\n",
            "after functio 10\n"
          ]
        }
      ]
    },
    {
      "cell_type": "code",
      "source": [
        "def demo(first, sec, third):\n",
        "    if first > sec and first > third:\n",
        "        print(\"excellent\")\n",
        "    elif sec > third:\n",
        "        print(\"good\")\n",
        "    else:\n",
        "        print(\"average\")\n",
        "\n",
        "\n",
        "demo(3,2,1)\n",
        "demo(1,32,3)\n",
        "demo(1,5,36)\n",
        "\n"
      ],
      "metadata": {
        "colab": {
          "base_uri": "https://localhost:8080/"
        },
        "id": "sx2FGSjRZbs9",
        "outputId": "3384f79d-3a49-49bb-cb5d-cb9df10bedeb"
      },
      "execution_count": null,
      "outputs": [
        {
          "output_type": "stream",
          "name": "stdout",
          "text": [
            "excellent\n",
            "good\n",
            "average\n"
          ]
        }
      ]
    },
    {
      "cell_type": "code",
      "source": [
        "def lcm(x,y):\n",
        "  if(x>y):\n",
        "\n",
        "\n",
        "       greatest=x\n",
        "  else:\n",
        "    greatest=y\n",
        "  while(True):\n",
        "    if(greatest%x==0 and greatest%y==0):\n",
        "      print(\"lcm is\",greatest)\n",
        "      return\n",
        "    else:\n",
        "      greatest+=1\n",
        "\n",
        "\n",
        "\n",
        "lcm(3,21)\n"
      ],
      "metadata": {
        "colab": {
          "base_uri": "https://localhost:8080/"
        },
        "id": "E49wSYqxZbvo",
        "outputId": "f8d00ade-92fe-4004-b6db-898d11668e92"
      },
      "execution_count": null,
      "outputs": [
        {
          "output_type": "stream",
          "name": "stdout",
          "text": [
            "lcm is 21\n"
          ]
        }
      ]
    },
    {
      "cell_type": "code",
      "source": [
        "def employee(eid,name,email):\n",
        "  print(f\"eid is{eid}\\nemail is {email}\")\n",
        "\n",
        "\n",
        "employee(90,\"naina\")  #nnumber of parameter should be nnmber of argument is  requird argument\n"
      ],
      "metadata": {
        "id": "DVWeSfMSZbys"
      },
      "execution_count": null,
      "outputs": []
    },
    {
      "cell_type": "code",
      "source": [
        "#psotion argumnet\n",
        "def employee(eid,name,email):\n",
        "  print(f\"eid is{eid} \\n name is{name}\\nemail is {email}\")\n",
        "\n",
        "\n",
        "employee(\"naina@gamil.com\",90,\"naina\")"
      ],
      "metadata": {
        "colab": {
          "base_uri": "https://localhost:8080/"
        },
        "id": "bHTHJ3D6Zb2F",
        "outputId": "247db2d6-4fec-4871-ec30-e9acbf633d15"
      },
      "execution_count": null,
      "outputs": [
        {
          "output_type": "stream",
          "name": "stdout",
          "text": [
            "eid isnaina@gamil.com \n",
            " name is90\n",
            "email is naina\n"
          ]
        }
      ]
    },
    {
      "cell_type": "code",
      "source": [
        "#keyword argumnet\n",
        "def employee(eid,name,email):\n",
        "  print(f\"eid is{eid} \\n name is{name}\\nemail is {email}\")\n",
        "\n",
        "\n",
        "employee(email=\"naina@gamil.com\",eid=90,name=\"naina\")"
      ],
      "metadata": {
        "id": "ap0cPc27X3IX",
        "colab": {
          "base_uri": "https://localhost:8080/"
        },
        "outputId": "a66ee633-6a9f-4c17-97ef-c29ba9ba28a8"
      },
      "execution_count": null,
      "outputs": [
        {
          "output_type": "stream",
          "name": "stdout",
          "text": [
            "eid is90 \n",
            " name isnaina\n",
            "email is naina@gamil.com\n"
          ]
        }
      ]
    },
    {
      "cell_type": "code",
      "source": [
        "#default\n",
        "\n",
        "def employee(eid,name,email=\"naina@gamil.com\"):\n",
        "  print(f\"eid is{eid} \\n name is{name}\\nemail is {email}\")\n",
        "\n",
        "\n",
        "employee(eid=90,name=\"naina\")"
      ],
      "metadata": {
        "id": "dUKkc29iJFmg",
        "colab": {
          "base_uri": "https://localhost:8080/"
        },
        "outputId": "200d5549-01ee-4ef6-a980-8ad93cb11df2"
      },
      "execution_count": null,
      "outputs": [
        {
          "output_type": "stream",
          "name": "stdout",
          "text": [
            "eid is90 \n",
            " name isnaina\n",
            "email is naina@gamil.com\n"
          ]
        }
      ]
    },
    {
      "cell_type": "code",
      "source": [
        "# variable lenght argument (args)\n",
        "def  facebook(*data):\n",
        "    print(data,type(data))\n",
        "\n",
        "facebook(10,10,30,9,8,4)\n",
        "facebook(\"roop@gamil.com\",\"regex\",100)\n",
        "facebook(\"amzon\",\"nidhi\")"
      ],
      "metadata": {
        "colab": {
          "base_uri": "https://localhost:8080/"
        },
        "id": "ygUOVb7clfZb",
        "outputId": "54e26c7c-3200-4bb9-8068-118bc2363250"
      },
      "execution_count": null,
      "outputs": [
        {
          "output_type": "stream",
          "name": "stdout",
          "text": [
            "(10, 10, 30, 9, 8, 4) <class 'tuple'>\n"
          ]
        }
      ]
    },
    {
      "cell_type": "code",
      "source": [
        "# keyword variable lenght argument(kwargs)\n",
        "#args,kwargs\n",
        "def  facebook(**data):\n",
        "    print(data,type(data))\n",
        "\n",
        "\n",
        "facebook(usrenam=\"roop@gamil.com\",company=\"regex\",id=100)\n",
        "\n"
      ],
      "metadata": {
        "colab": {
          "base_uri": "https://localhost:8080/"
        },
        "id": "vNkDNW8HlfWe",
        "outputId": "6304dcb2-a84f-45e3-891e-c1124ada9288"
      },
      "execution_count": null,
      "outputs": [
        {
          "output_type": "stream",
          "name": "stdout",
          "text": [
            "{'usrenam': 'roop@gamil.com', 'company': 'regex', 'id': 100} <class 'dict'>\n"
          ]
        }
      ]
    },
    {
      "cell_type": "code",
      "source": [
        "#high order function\n",
        "#which take another functiom as a argumrnt\n",
        "\n",
        "def sq(x):\n",
        "  print(x*x)\n",
        "\n",
        "\n",
        "def add(x,func):\n",
        "  print(x,func)\n",
        "add(10,sq(5))\n"
      ],
      "metadata": {
        "colab": {
          "base_uri": "https://localhost:8080/"
        },
        "id": "U2O3UcqblfT-",
        "outputId": "26ac84b7-c37c-4a33-bab9-cc8168d5b87b"
      },
      "execution_count": null,
      "outputs": [
        {
          "output_type": "stream",
          "name": "stdout",
          "text": [
            "25\n",
            "10 None\n"
          ]
        }
      ]
    },
    {
      "cell_type": "code",
      "source": [
        "def sq(x):\n",
        "  return x*x\n",
        "\n",
        "\n",
        "def add(x,func):\n",
        "  print(x,func)\n",
        "add(10,sq(5))"
      ],
      "metadata": {
        "colab": {
          "base_uri": "https://localhost:8080/"
        },
        "id": "GRN8jsVKlfRd",
        "outputId": "c81c46dd-a287-4751-dba2-1a52e5b802b0"
      },
      "execution_count": null,
      "outputs": [
        {
          "output_type": "stream",
          "name": "stdout",
          "text": [
            "10 25\n"
          ]
        }
      ]
    },
    {
      "cell_type": "code",
      "source": [
        "\n",
        "squared_numbers = [x ** 2 for x in range(1, 11)]\n",
        "\n",
        "print(squared_numbers)\n"
      ],
      "metadata": {
        "colab": {
          "base_uri": "https://localhost:8080/"
        },
        "id": "PYdgECG2lfPB",
        "outputId": "87be3f21-e24d-491e-b822-366c55777979"
      },
      "execution_count": null,
      "outputs": [
        {
          "output_type": "stream",
          "name": "stdout",
          "text": [
            "[1, 4, 9, 16, 25, 36, 49, 64, 81, 100]\n"
          ]
        }
      ]
    },
    {
      "cell_type": "code",
      "source": [
        "\n",
        "\n",
        "for i in range(1, 6):\n",
        "    for j in range(0, i):\n",
        "\n",
        "        print(chr(65 + j), end=\"\")\n",
        "    print(\" \")"
      ],
      "metadata": {
        "colab": {
          "base_uri": "https://localhost:8080/"
        },
        "id": "H-wYh-MflfL4",
        "outputId": "ace016c3-976f-43f0-e338-2b535b5f032e"
      },
      "execution_count": null,
      "outputs": [
        {
          "output_type": "stream",
          "name": "stdout",
          "text": [
            "A \n",
            "AB \n",
            "ABC \n",
            "ABCD \n",
            "ABCDE \n"
          ]
        }
      ]
    },
    {
      "cell_type": "code",
      "source": [],
      "metadata": {
        "id": "jFl3-qEf4p09"
      },
      "execution_count": null,
      "outputs": []
    },
    {
      "cell_type": "code",
      "source": [
        "for i in range(1, 6):\n",
        "    for j in range(0, 6 - i):\n",
        "        print(chr(65 + j), end=\"\")\n",
        "    for k in range(1, i + 1):\n",
        "        print(k, end=\"\")\n",
        "    print()\n"
      ],
      "metadata": {
        "colab": {
          "base_uri": "https://localhost:8080/"
        },
        "id": "jTfUs50UlfJC",
        "outputId": "2813d593-2617-447f-a062-964b72aeb8d5"
      },
      "execution_count": null,
      "outputs": [
        {
          "output_type": "stream",
          "name": "stdout",
          "text": [
            "ABCDE1\n",
            "ABCD12\n",
            "ABC123\n",
            "AB1234\n",
            "A12345\n"
          ]
        }
      ]
    },
    {
      "cell_type": "code",
      "source": [
        "for i in range(1, 6):\n",
        "    for j in range(1, 6 - i + 1):\n",
        "        print(j, end=\"\")\n",
        "    for k in range(1, i + 1):\n",
        "        print(\"*\", end=\"\")\n",
        "    print()\n"
      ],
      "metadata": {
        "colab": {
          "base_uri": "https://localhost:8080/"
        },
        "id": "eQcPGg6slfE-",
        "outputId": "34fc63c4-b081-4160-fa9b-b102de7009b7"
      },
      "execution_count": null,
      "outputs": [
        {
          "output_type": "stream",
          "name": "stdout",
          "text": [
            "12345*\n",
            "1234**\n",
            "123***\n",
            "12****\n",
            "1*****\n"
          ]
        }
      ]
    },
    {
      "cell_type": "code",
      "source": [
        "#lambda functioon\n",
        "#annoymous (gumnaame)\n",
        "#lambda se start\n",
        "#lambda\n",
        "\n",
        "\n",
        "out =lambda x: x+10 #fucntion store in variable called frist class\n",
        "out(5)"
      ],
      "metadata": {
        "id": "qHAq81IQleyi",
        "colab": {
          "base_uri": "https://localhost:8080/"
        },
        "outputId": "72febec6-7147-4ea8-b5de-96e28a119cb5"
      },
      "execution_count": null,
      "outputs": [
        {
          "output_type": "execute_result",
          "data": {
            "text/plain": [
              "15"
            ]
          },
          "metadata": {},
          "execution_count": 2
        }
      ]
    },
    {
      "cell_type": "code",
      "source": [
        "#high orderfunction map filter reduce\n",
        "#map(function,iterable)\n",
        "def square(x):\n",
        "   return x*x\n",
        "\n",
        "\n",
        "mylist=[1,2,3,4,5]\n",
        "\n",
        "ans=list(map(square,mylist))\n",
        "\n",
        "print(ans)"
      ],
      "metadata": {
        "colab": {
          "base_uri": "https://localhost:8080/"
        },
        "id": "CFx6FGsPlqW-",
        "outputId": "d65ea30b-22e3-4d30-bca8-2c6a6f373f6b"
      },
      "execution_count": null,
      "outputs": [
        {
          "output_type": "stream",
          "name": "stdout",
          "text": [
            "[1, 4, 9, 16, 25]\n"
          ]
        }
      ]
    },
    {
      "cell_type": "code",
      "source": [],
      "metadata": {
        "id": "uZ9m607vsier"
      },
      "execution_count": null,
      "outputs": []
    },
    {
      "cell_type": "code",
      "source": [
        "mylist=[1,2,3,4,5]\n",
        "\n",
        "ans=list(map(lambda x:x*x,mylist))\n",
        "\n",
        "print(ans)"
      ],
      "metadata": {
        "colab": {
          "base_uri": "https://localhost:8080/"
        },
        "id": "4CrJLlrdlqZ5",
        "outputId": "348102f8-3ace-4d70-935e-0133e6252b25"
      },
      "execution_count": null,
      "outputs": [
        {
          "output_type": "stream",
          "name": "stdout",
          "text": [
            "[1, 4, 9, 16, 25]\n"
          ]
        }
      ]
    },
    {
      "cell_type": "code",
      "source": [
        "filobje=(\"file.txt\",\"r\")\n",
        "obj=filobje.read()\n",
        "filobje.close()\n",
        "\n",
        "print(obj)"
      ],
      "metadata": {
        "id": "OGZXkGYplqc0"
      },
      "execution_count": null,
      "outputs": []
    },
    {
      "cell_type": "code",
      "source": [
        "filobje=(\"file.txt\",\"r+\")\n",
        "print(filobje.tell())\n",
        "filobje.write(\"tushar\")\n",
        "filobje.seek(2)\n",
        "print(\"after write\", filobje.tell())\n",
        "\n",
        "x=filobje.read()\n",
        "filobje.close()\n",
        "\n",
        "print(x)"
      ],
      "metadata": {
        "id": "5RwkoJ95sTPf"
      },
      "execution_count": null,
      "outputs": []
    },
    {
      "cell_type": "code",
      "source": [
        "with open(\"file.text\",\"r\") as fileobj:\n",
        "     x=fileobj.read()\n",
        "print(x)\n",
        "\n",
        "\n"
      ],
      "metadata": {
        "id": "i31HfvNBlqfy"
      },
      "execution_count": null,
      "outputs": []
    },
    {
      "cell_type": "code",
      "source": [
        "with open(\"file.text\",\"r\") as fileobj:\n",
        "  for line in fileobj.readline():\n",
        "     print(line.strip())\n",
        "\n"
      ],
      "metadata": {
        "id": "9i5gXB7tlqi6"
      },
      "execution_count": null,
      "outputs": []
    },
    {
      "cell_type": "code",
      "source": [
        "#unpacking karna\n",
        "mylist=[2,3,4,5]\n",
        "x,y,z,w=mylist\n",
        "print(y)"
      ],
      "metadata": {
        "colab": {
          "base_uri": "https://localhost:8080/"
        },
        "id": "Hvy2U8zlzXU5",
        "outputId": "9f98a98b-c5d0-417d-df4d-4aa8a4b30a5b"
      },
      "execution_count": null,
      "outputs": [
        {
          "output_type": "stream",
          "name": "stdout",
          "text": [
            "3\n"
          ]
        }
      ]
    },
    {
      "cell_type": "code",
      "source": [
        "#exception handling\n",
        "#try ,except\n",
        "\n",
        "try:\n",
        "  print(\"hello\")\n",
        "  # x=10\n",
        "  # x/num\n",
        "\n",
        "  x=\"tushar\"\n",
        "  x[10]\n",
        "  print(\"hey\")\n",
        "except (ZeroDivisionError,NameError) as z:\n",
        "\n",
        "  print(\"error :\",z)\n",
        "\n",
        "except Exception as e:\n",
        "  print(e,\":error occured\")\n",
        "\n",
        "\n",
        "\n"
      ],
      "metadata": {
        "colab": {
          "base_uri": "https://localhost:8080/"
        },
        "id": "o0Qgi6xLlqmH",
        "outputId": "0e63585c-4281-4163-85ab-11f0556035c9"
      },
      "execution_count": null,
      "outputs": [
        {
          "output_type": "stream",
          "name": "stdout",
          "text": [
            "hello\n",
            "string index out of range :error occured\n"
          ]
        }
      ]
    },
    {
      "cell_type": "code",
      "source": [
        "try:\n",
        "  print(\"hello\")\n",
        "  x=10\n",
        "  x/0\n",
        "  print(\"hey\")\n",
        "\n",
        "\n",
        "except Exception as e:\n",
        "  print(e,\":error occured\")\n",
        "\n",
        "else:\n",
        "  print(\"try block mai error nhi hai \")"
      ],
      "metadata": {
        "colab": {
          "base_uri": "https://localhost:8080/"
        },
        "id": "eT09FEDGlq5S",
        "outputId": "90e8aab9-8a56-44cf-fff6-fc4ca74f41d3"
      },
      "execution_count": null,
      "outputs": [
        {
          "output_type": "stream",
          "name": "stdout",
          "text": [
            "hello\n",
            "division by zero :error occured\n"
          ]
        }
      ]
    },
    {
      "cell_type": "code",
      "source": [
        "#take input user ones number provide we have drop same number of mesage to go"
      ],
      "metadata": {
        "id": "nnD995Tu1YiO"
      },
      "execution_count": null,
      "outputs": []
    },
    {
      "cell_type": "code",
      "source": [
        "for i in range(5):\n",
        "    try:\n",
        "        print(f\"Sending message {i+1}\")\n",
        "        pywhatkit.sendwhatmsg(\"+917519434260\", \"Geeks For Geeks!\", 1, 29+i)\n",
        "        print(\"Message sent successfully!\")\n",
        "    except Exception as e:\n",
        "        print(f\"Error sending message {i+1}: {e}\")\n",
        "    time.sleep(70)  # Sleep for 1 minute and 10 seconds"
      ],
      "metadata": {
        "id": "tVpUc5D81Ymj",
        "colab": {
          "base_uri": "https://localhost:8080/",
          "height": 211
        },
        "outputId": "cc79ec51-af8d-4302-e034-82bee3635bac"
      },
      "execution_count": null,
      "outputs": [
        {
          "output_type": "stream",
          "name": "stdout",
          "text": [
            "Sending message 1\n",
            "Error sending message 1: name 'pywhatkit' is not defined\n"
          ]
        },
        {
          "output_type": "error",
          "ename": "NameError",
          "evalue": "name 'time' is not defined",
          "traceback": [
            "\u001b[0;31m---------------------------------------------------------------------------\u001b[0m",
            "\u001b[0;31mNameError\u001b[0m                                 Traceback (most recent call last)",
            "\u001b[0;32m<ipython-input-1-6b6a4b4e8ff4>\u001b[0m in \u001b[0;36m<cell line: 1>\u001b[0;34m()\u001b[0m\n\u001b[1;32m      6\u001b[0m     \u001b[0;32mexcept\u001b[0m \u001b[0mException\u001b[0m \u001b[0;32mas\u001b[0m \u001b[0me\u001b[0m\u001b[0;34m:\u001b[0m\u001b[0;34m\u001b[0m\u001b[0;34m\u001b[0m\u001b[0m\n\u001b[1;32m      7\u001b[0m         \u001b[0mprint\u001b[0m\u001b[0;34m(\u001b[0m\u001b[0;34mf\"Error sending message {i+1}: {e}\"\u001b[0m\u001b[0;34m)\u001b[0m\u001b[0;34m\u001b[0m\u001b[0;34m\u001b[0m\u001b[0m\n\u001b[0;32m----> 8\u001b[0;31m     \u001b[0mtime\u001b[0m\u001b[0;34m.\u001b[0m\u001b[0msleep\u001b[0m\u001b[0;34m(\u001b[0m\u001b[0;36m70\u001b[0m\u001b[0;34m)\u001b[0m  \u001b[0;31m# Sleep for 1 minute and 10 seconds\u001b[0m\u001b[0;34m\u001b[0m\u001b[0;34m\u001b[0m\u001b[0m\n\u001b[0m",
            "\u001b[0;31mNameError\u001b[0m: name 'time' is not defined"
          ]
        }
      ]
    },
    {
      "cell_type": "code",
      "source": [
        "import pywhatkit\n",
        "import time\n",
        "\n",
        "for i in range(5):\n",
        "    try:\n",
        "        print(f\"Sending message {i+1}\")\n",
        "        pywhatkit.sendwhatmsg(\"+917519434260\", \"Geeks For Geeks!\", 1, 25+i)\n",
        "        print(\"Message sent successfully!\")\n",
        "    except Exception as e:\n",
        "        print(f\"Error sending message {i+1}: {e}\")\n",
        "    time.sleep(70)  # Sleep for 1 minute and 10 seconds"
      ],
      "metadata": {
        "id": "hcU7otMf1Ypl",
        "colab": {
          "base_uri": "https://localhost:8080/",
          "height": 383
        },
        "outputId": "145b6341-7f76-4bee-cbe9-802173d26870"
      },
      "execution_count": null,
      "outputs": [
        {
          "output_type": "error",
          "ename": "ModuleNotFoundError",
          "evalue": "No module named 'pywhatkit'",
          "traceback": [
            "\u001b[0;31m---------------------------------------------------------------------------\u001b[0m",
            "\u001b[0;31mModuleNotFoundError\u001b[0m                       Traceback (most recent call last)",
            "\u001b[0;32m<ipython-input-2-ff0a9ac85891>\u001b[0m in \u001b[0;36m<cell line: 1>\u001b[0;34m()\u001b[0m\n\u001b[0;32m----> 1\u001b[0;31m \u001b[0;32mimport\u001b[0m \u001b[0mpywhatkit\u001b[0m\u001b[0;34m\u001b[0m\u001b[0;34m\u001b[0m\u001b[0m\n\u001b[0m\u001b[1;32m      2\u001b[0m \u001b[0;32mimport\u001b[0m \u001b[0mtime\u001b[0m\u001b[0;34m\u001b[0m\u001b[0;34m\u001b[0m\u001b[0m\n\u001b[1;32m      3\u001b[0m \u001b[0;34m\u001b[0m\u001b[0m\n\u001b[1;32m      4\u001b[0m \u001b[0;32mfor\u001b[0m \u001b[0mi\u001b[0m \u001b[0;32min\u001b[0m \u001b[0mrange\u001b[0m\u001b[0;34m(\u001b[0m\u001b[0;36m5\u001b[0m\u001b[0;34m)\u001b[0m\u001b[0;34m:\u001b[0m\u001b[0;34m\u001b[0m\u001b[0;34m\u001b[0m\u001b[0m\n\u001b[1;32m      5\u001b[0m     \u001b[0;32mtry\u001b[0m\u001b[0;34m:\u001b[0m\u001b[0;34m\u001b[0m\u001b[0;34m\u001b[0m\u001b[0m\n",
            "\u001b[0;31mModuleNotFoundError\u001b[0m: No module named 'pywhatkit'",
            "",
            "\u001b[0;31m---------------------------------------------------------------------------\u001b[0;32m\nNOTE: If your import is failing due to a missing package, you can\nmanually install dependencies using either !pip or !apt.\n\nTo view examples of installing some common dependencies, click the\n\"Open Examples\" button below.\n\u001b[0;31m---------------------------------------------------------------------------\u001b[0m\n"
          ],
          "errorDetails": {
            "actions": [
              {
                "action": "open_url",
                "actionText": "Open Examples",
                "url": "/notebooks/snippets/importing_libraries.ipynb"
              }
            ]
          }
        }
      ]
    },
    {
      "cell_type": "code",
      "source": [
        "pip install  pywhatkit\n"
      ],
      "metadata": {
        "id": "o2IYrJaC1Yt0",
        "colab": {
          "base_uri": "https://localhost:8080/"
        },
        "outputId": "320950be-18e7-4354-bc63-8ded74ef0eda"
      },
      "execution_count": null,
      "outputs": [
        {
          "output_type": "stream",
          "name": "stdout",
          "text": [
            "Collecting pywhatkit\n",
            "  Downloading pywhatkit-5.4-py3-none-any.whl (15 kB)\n",
            "Requirement already satisfied: Pillow in /usr/local/lib/python3.10/dist-packages (from pywhatkit) (9.4.0)\n",
            "Collecting pyautogui (from pywhatkit)\n",
            "  Downloading PyAutoGUI-0.9.54.tar.gz (61 kB)\n",
            "\u001b[2K     \u001b[90m━━━━━━━━━━━━━━━━━━━━━━━━━━━━━━━━━━━━━━━━\u001b[0m \u001b[32m61.2/61.2 kB\u001b[0m \u001b[31m2.4 MB/s\u001b[0m eta \u001b[36m0:00:00\u001b[0m\n",
            "\u001b[?25h  Installing build dependencies ... \u001b[?25l\u001b[?25hdone\n",
            "  Getting requirements to build wheel ... \u001b[?25l\u001b[?25hdone\n",
            "  Preparing metadata (pyproject.toml) ... \u001b[?25l\u001b[?25hdone\n",
            "Requirement already satisfied: requests in /usr/local/lib/python3.10/dist-packages (from pywhatkit) (2.31.0)\n",
            "Collecting wikipedia (from pywhatkit)\n",
            "  Downloading wikipedia-1.4.0.tar.gz (27 kB)\n",
            "  Preparing metadata (setup.py) ... \u001b[?25l\u001b[?25hdone\n",
            "Requirement already satisfied: Flask in /usr/local/lib/python3.10/dist-packages (from pywhatkit) (2.2.5)\n",
            "Requirement already satisfied: Werkzeug>=2.2.2 in /usr/local/lib/python3.10/dist-packages (from Flask->pywhatkit) (3.0.3)\n",
            "Requirement already satisfied: Jinja2>=3.0 in /usr/local/lib/python3.10/dist-packages (from Flask->pywhatkit) (3.1.4)\n",
            "Requirement already satisfied: itsdangerous>=2.0 in /usr/local/lib/python3.10/dist-packages (from Flask->pywhatkit) (2.2.0)\n",
            "Requirement already satisfied: click>=8.0 in /usr/local/lib/python3.10/dist-packages (from Flask->pywhatkit) (8.1.7)\n",
            "Collecting pymsgbox (from pyautogui->pywhatkit)\n",
            "  Downloading PyMsgBox-1.0.9.tar.gz (18 kB)\n",
            "  Installing build dependencies ... \u001b[?25l\u001b[?25hdone\n",
            "  Getting requirements to build wheel ... \u001b[?25l\u001b[?25hdone\n",
            "  Preparing metadata (pyproject.toml) ... \u001b[?25l\u001b[?25hdone\n",
            "Collecting pytweening>=1.0.4 (from pyautogui->pywhatkit)\n",
            "  Downloading pytweening-1.2.0.tar.gz (171 kB)\n",
            "\u001b[2K     \u001b[90m━━━━━━━━━━━━━━━━━━━━━━━━━━━━━━━━━━━━━━━━\u001b[0m \u001b[32m171.2/171.2 kB\u001b[0m \u001b[31m5.2 MB/s\u001b[0m eta \u001b[36m0:00:00\u001b[0m\n",
            "\u001b[?25h  Preparing metadata (setup.py) ... \u001b[?25l\u001b[?25hdone\n",
            "Collecting pyscreeze>=0.1.21 (from pyautogui->pywhatkit)\n",
            "  Downloading PyScreeze-0.1.30.tar.gz (27 kB)\n",
            "  Installing build dependencies ... \u001b[?25l\u001b[?25hdone\n",
            "  Getting requirements to build wheel ... \u001b[?25l\u001b[?25hdone\n",
            "  Preparing metadata (pyproject.toml) ... \u001b[?25l\u001b[?25hdone\n",
            "Collecting pygetwindow>=0.0.5 (from pyautogui->pywhatkit)\n",
            "  Downloading PyGetWindow-0.0.9.tar.gz (9.7 kB)\n",
            "  Preparing metadata (setup.py) ... \u001b[?25l\u001b[?25hdone\n",
            "Collecting mouseinfo (from pyautogui->pywhatkit)\n",
            "  Downloading MouseInfo-0.1.3.tar.gz (10 kB)\n",
            "  Preparing metadata (setup.py) ... \u001b[?25l\u001b[?25hdone\n",
            "Collecting python3-Xlib (from pyautogui->pywhatkit)\n",
            "  Downloading python3-xlib-0.15.tar.gz (132 kB)\n",
            "\u001b[2K     \u001b[90m━━━━━━━━━━━━━━━━━━━━━━━━━━━━━━━━━━━━━━━━\u001b[0m \u001b[32m132.8/132.8 kB\u001b[0m \u001b[31m6.0 MB/s\u001b[0m eta \u001b[36m0:00:00\u001b[0m\n",
            "\u001b[?25h  Preparing metadata (setup.py) ... \u001b[?25l\u001b[?25hdone\n",
            "Requirement already satisfied: charset-normalizer<4,>=2 in /usr/local/lib/python3.10/dist-packages (from requests->pywhatkit) (3.3.2)\n",
            "Requirement already satisfied: idna<4,>=2.5 in /usr/local/lib/python3.10/dist-packages (from requests->pywhatkit) (3.7)\n",
            "Requirement already satisfied: urllib3<3,>=1.21.1 in /usr/local/lib/python3.10/dist-packages (from requests->pywhatkit) (2.0.7)\n",
            "Requirement already satisfied: certifi>=2017.4.17 in /usr/local/lib/python3.10/dist-packages (from requests->pywhatkit) (2024.2.2)\n",
            "Requirement already satisfied: beautifulsoup4 in /usr/local/lib/python3.10/dist-packages (from wikipedia->pywhatkit) (4.12.3)\n",
            "Requirement already satisfied: MarkupSafe>=2.0 in /usr/local/lib/python3.10/dist-packages (from Jinja2>=3.0->Flask->pywhatkit) (2.1.5)\n",
            "Collecting pyrect (from pygetwindow>=0.0.5->pyautogui->pywhatkit)\n",
            "  Downloading PyRect-0.2.0.tar.gz (17 kB)\n",
            "  Preparing metadata (setup.py) ... \u001b[?25l\u001b[?25hdone\n",
            "Requirement already satisfied: soupsieve>1.2 in /usr/local/lib/python3.10/dist-packages (from beautifulsoup4->wikipedia->pywhatkit) (2.5)\n",
            "Requirement already satisfied: pyperclip in /usr/local/lib/python3.10/dist-packages (from mouseinfo->pyautogui->pywhatkit) (1.8.2)\n",
            "Building wheels for collected packages: pyautogui, wikipedia, pygetwindow, pyscreeze, pytweening, mouseinfo, pymsgbox, python3-Xlib, pyrect\n",
            "  Building wheel for pyautogui (pyproject.toml) ... \u001b[?25l\u001b[?25hdone\n",
            "  Created wheel for pyautogui: filename=PyAutoGUI-0.9.54-py3-none-any.whl size=37577 sha256=18d9f08cbe9149730207ea386d24f00e0eb54280d3268119a3ee133a74529162\n",
            "  Stored in directory: /root/.cache/pip/wheels/23/a7/1c/5a51aaff3bbe110be4ddf766d429cc9d2fae7a72fc1b843e56\n",
            "  Building wheel for wikipedia (setup.py) ... \u001b[?25l\u001b[?25hdone\n",
            "  Created wheel for wikipedia: filename=wikipedia-1.4.0-py3-none-any.whl size=11680 sha256=8a08c04c5a8ee5699e9dd296a3e6ec68e59a151cbe1f3305722143f0bb78be8c\n",
            "  Stored in directory: /root/.cache/pip/wheels/5e/b6/c5/93f3dec388ae76edc830cb42901bb0232504dfc0df02fc50de\n",
            "  Building wheel for pygetwindow (setup.py) ... \u001b[?25l\u001b[?25hdone\n",
            "  Created wheel for pygetwindow: filename=PyGetWindow-0.0.9-py3-none-any.whl size=11063 sha256=a490e714335da9bdd1c9115f4f80284418d33e6b98e37111e08cdc3f1a3b53f3\n",
            "  Stored in directory: /root/.cache/pip/wheels/02/f6/64/c5d427819f80553df2398bfecc351e94e00371c1dcb6edb24e\n",
            "  Building wheel for pyscreeze (pyproject.toml) ... \u001b[?25l\u001b[?25hdone\n",
            "  Created wheel for pyscreeze: filename=PyScreeze-0.1.30-py3-none-any.whl size=14383 sha256=982f3f16eeca2ff359035ccc1fcfab3db1e8a3f7c6a4c7c21f13b585d0827734\n",
            "  Stored in directory: /root/.cache/pip/wheels/c4/46/42/d3613adf9880c8b4a780c07a8cf85df12ca04a9a0ca77c6c02\n",
            "  Building wheel for pytweening (setup.py) ... \u001b[?25l\u001b[?25hdone\n",
            "  Created wheel for pytweening: filename=pytweening-1.2.0-py3-none-any.whl size=8009 sha256=eb018841f74b77b733b0cafb38c5f48e2871fb98b42f01c07e6b0e4c4c50d447\n",
            "  Stored in directory: /root/.cache/pip/wheels/22/d7/02/b3e395d93b6dd41a7da54b2fa738ec03e7fb7451f7f22f8213\n",
            "  Building wheel for mouseinfo (setup.py) ... \u001b[?25l\u001b[?25hdone\n",
            "  Created wheel for mouseinfo: filename=MouseInfo-0.1.3-py3-none-any.whl size=10889 sha256=933fdf8a54dce58654353e84b4a2f744f80feea8cd358deb20311402ebd0b4b4\n",
            "  Stored in directory: /root/.cache/pip/wheels/6e/d5/27/2f1be84b3e6ccee99c82f50e3fe7fe6360dd30417109b49a72\n",
            "  Building wheel for pymsgbox (pyproject.toml) ... \u001b[?25l\u001b[?25hdone\n",
            "  Created wheel for pymsgbox: filename=PyMsgBox-1.0.9-py3-none-any.whl size=7406 sha256=95e4e0afd5c7f09ae49383c0afaa49c1aed050ffb270c73040806efb2fc184d9\n",
            "  Stored in directory: /root/.cache/pip/wheels/b9/6a/ba/be2d7d78166ec8018c21d07241dffa54446c09652a267759ae\n",
            "  Building wheel for python3-Xlib (setup.py) ... \u001b[?25l\u001b[?25hdone\n",
            "  Created wheel for python3-Xlib: filename=python3_xlib-0.15-py3-none-any.whl size=109500 sha256=f5c7dc4fc0ab8b35a6dec2565600386e12748499ffb6ba09f4ca9d8482277203\n",
            "  Stored in directory: /root/.cache/pip/wheels/9c/8e/c5/8a93a3415a4a2065f31750a3244db61482b9e508f04ee56e82\n",
            "  Building wheel for pyrect (setup.py) ... \u001b[?25l\u001b[?25hdone\n",
            "  Created wheel for pyrect: filename=PyRect-0.2.0-py2.py3-none-any.whl size=11179 sha256=4ed55164a8cedba291a0c0c41b71d8d5e9afd63e6b022c65076152d063ee9941\n",
            "  Stored in directory: /root/.cache/pip/wheels/d5/4c/bd/42e4e23641afcd185d4e932784da37e6e04505da0cf3f7b832\n",
            "Successfully built pyautogui wikipedia pygetwindow pyscreeze pytweening mouseinfo pymsgbox python3-Xlib pyrect\n",
            "Installing collected packages: pytweening, python3-Xlib, pyrect, pymsgbox, pyscreeze, pygetwindow, mouseinfo, wikipedia, pyautogui, pywhatkit\n",
            "Successfully installed mouseinfo-0.1.3 pyautogui-0.9.54 pygetwindow-0.0.9 pymsgbox-1.0.9 pyrect-0.2.0 pyscreeze-0.1.30 python3-Xlib-0.15 pytweening-1.2.0 pywhatkit-5.4 wikipedia-1.4.0\n"
          ]
        }
      ]
    },
    {
      "cell_type": "code",
      "source": [
        "import pywhatkit\n",
        "import time\n",
        "\n",
        "for i in range(5):\n",
        "    try:\n",
        "        print(f\"Sending message {i+1}\")\n",
        "        pywhatkit.sendwhatmsg(\"+917519434260\", \"Geeks For Geeks!\", 1, 25+i)\n",
        "        print(\"Message sent successfully!\")\n",
        "    except Exception as e:\n",
        "        print(f\"Error sending message {i+1}: {e}\")\n",
        "    time.sleep(70)  # Sleep for 1 minute and 10 seconds"
      ],
      "metadata": {
        "id": "xY1OG8Km1Yxt",
        "colab": {
          "base_uri": "https://localhost:8080/",
          "height": 356
        },
        "outputId": "0b7023b9-a09f-46c9-d9c5-0590b90c8dbd"
      },
      "execution_count": null,
      "outputs": [
        {
          "output_type": "error",
          "ename": "KeyError",
          "evalue": "'DISPLAY'",
          "traceback": [
            "\u001b[0;31m---------------------------------------------------------------------------\u001b[0m",
            "\u001b[0;31mKeyError\u001b[0m                                  Traceback (most recent call last)",
            "\u001b[0;32m<ipython-input-4-ff0a9ac85891>\u001b[0m in \u001b[0;36m<cell line: 1>\u001b[0;34m()\u001b[0m\n\u001b[0;32m----> 1\u001b[0;31m \u001b[0;32mimport\u001b[0m \u001b[0mpywhatkit\u001b[0m\u001b[0;34m\u001b[0m\u001b[0;34m\u001b[0m\u001b[0m\n\u001b[0m\u001b[1;32m      2\u001b[0m \u001b[0;32mimport\u001b[0m \u001b[0mtime\u001b[0m\u001b[0;34m\u001b[0m\u001b[0;34m\u001b[0m\u001b[0m\n\u001b[1;32m      3\u001b[0m \u001b[0;34m\u001b[0m\u001b[0m\n\u001b[1;32m      4\u001b[0m \u001b[0;32mfor\u001b[0m \u001b[0mi\u001b[0m \u001b[0;32min\u001b[0m \u001b[0mrange\u001b[0m\u001b[0;34m(\u001b[0m\u001b[0;36m5\u001b[0m\u001b[0;34m)\u001b[0m\u001b[0;34m:\u001b[0m\u001b[0;34m\u001b[0m\u001b[0;34m\u001b[0m\u001b[0m\n\u001b[1;32m      5\u001b[0m     \u001b[0;32mtry\u001b[0m\u001b[0;34m:\u001b[0m\u001b[0;34m\u001b[0m\u001b[0;34m\u001b[0m\u001b[0m\n",
            "\u001b[0;32m/usr/local/lib/python3.10/dist-packages/pywhatkit/__init__.py\u001b[0m in \u001b[0;36m<module>\u001b[0;34m\u001b[0m\n\u001b[1;32m     14\u001b[0m \u001b[0;32mfrom\u001b[0m \u001b[0mpywhatkit\u001b[0m\u001b[0;34m.\u001b[0m\u001b[0mmisc\u001b[0m \u001b[0;32mimport\u001b[0m \u001b[0minfo\u001b[0m\u001b[0;34m,\u001b[0m \u001b[0mplayonyt\u001b[0m\u001b[0;34m,\u001b[0m \u001b[0msearch\u001b[0m\u001b[0;34m,\u001b[0m \u001b[0mshow_history\u001b[0m\u001b[0;34m,\u001b[0m \u001b[0mweb_screenshot\u001b[0m\u001b[0;34m\u001b[0m\u001b[0;34m\u001b[0m\u001b[0m\n\u001b[1;32m     15\u001b[0m \u001b[0;32mfrom\u001b[0m \u001b[0mpywhatkit\u001b[0m\u001b[0;34m.\u001b[0m\u001b[0msc\u001b[0m \u001b[0;32mimport\u001b[0m \u001b[0mcancel_shutdown\u001b[0m\u001b[0;34m,\u001b[0m \u001b[0mshutdown\u001b[0m\u001b[0;34m\u001b[0m\u001b[0;34m\u001b[0m\u001b[0m\n\u001b[0;32m---> 16\u001b[0;31m from pywhatkit.whats import (\n\u001b[0m\u001b[1;32m     17\u001b[0m     \u001b[0mopen_web\u001b[0m\u001b[0;34m,\u001b[0m\u001b[0;34m\u001b[0m\u001b[0;34m\u001b[0m\u001b[0m\n\u001b[1;32m     18\u001b[0m     \u001b[0msendwhatmsg\u001b[0m\u001b[0;34m,\u001b[0m\u001b[0;34m\u001b[0m\u001b[0;34m\u001b[0m\u001b[0m\n",
            "\u001b[0;32m/usr/local/lib/python3.10/dist-packages/pywhatkit/whats.py\u001b[0m in \u001b[0;36m<module>\u001b[0;34m\u001b[0m\n\u001b[1;32m      5\u001b[0m \u001b[0;32mfrom\u001b[0m \u001b[0murllib\u001b[0m\u001b[0;34m.\u001b[0m\u001b[0mparse\u001b[0m \u001b[0;32mimport\u001b[0m \u001b[0mquote\u001b[0m\u001b[0;34m\u001b[0m\u001b[0;34m\u001b[0m\u001b[0m\n\u001b[1;32m      6\u001b[0m \u001b[0;34m\u001b[0m\u001b[0m\n\u001b[0;32m----> 7\u001b[0;31m \u001b[0;32mimport\u001b[0m \u001b[0mpyautogui\u001b[0m \u001b[0;32mas\u001b[0m \u001b[0mpg\u001b[0m\u001b[0;34m\u001b[0m\u001b[0;34m\u001b[0m\u001b[0m\n\u001b[0m\u001b[1;32m      8\u001b[0m \u001b[0;34m\u001b[0m\u001b[0m\n\u001b[1;32m      9\u001b[0m \u001b[0;32mfrom\u001b[0m \u001b[0mpywhatkit\u001b[0m\u001b[0;34m.\u001b[0m\u001b[0mcore\u001b[0m \u001b[0;32mimport\u001b[0m \u001b[0mcore\u001b[0m\u001b[0;34m,\u001b[0m \u001b[0mexceptions\u001b[0m\u001b[0;34m,\u001b[0m \u001b[0mlog\u001b[0m\u001b[0;34m\u001b[0m\u001b[0;34m\u001b[0m\u001b[0m\n",
            "\u001b[0;32m/usr/local/lib/python3.10/dist-packages/pyautogui/__init__.py\u001b[0m in \u001b[0;36m<module>\u001b[0;34m\u001b[0m\n\u001b[1;32m    244\u001b[0m \u001b[0;34m\u001b[0m\u001b[0m\n\u001b[1;32m    245\u001b[0m \u001b[0;32mtry\u001b[0m\u001b[0;34m:\u001b[0m\u001b[0;34m\u001b[0m\u001b[0;34m\u001b[0m\u001b[0m\n\u001b[0;32m--> 246\u001b[0;31m     \u001b[0;32mimport\u001b[0m \u001b[0mmouseinfo\u001b[0m\u001b[0;34m\u001b[0m\u001b[0;34m\u001b[0m\u001b[0m\n\u001b[0m\u001b[1;32m    247\u001b[0m \u001b[0;34m\u001b[0m\u001b[0m\n\u001b[1;32m    248\u001b[0m     \u001b[0;32mdef\u001b[0m \u001b[0mmouseInfo\u001b[0m\u001b[0;34m(\u001b[0m\u001b[0;34m)\u001b[0m\u001b[0;34m:\u001b[0m\u001b[0;34m\u001b[0m\u001b[0;34m\u001b[0m\u001b[0m\n",
            "\u001b[0;32m/usr/local/lib/python3.10/dist-packages/mouseinfo/__init__.py\u001b[0m in \u001b[0;36m<module>\u001b[0;34m\u001b[0m\n\u001b[1;32m    221\u001b[0m             \u001b[0;32mraise\u001b[0m\u001b[0;34m\u001b[0m\u001b[0;34m\u001b[0m\u001b[0m\n\u001b[1;32m    222\u001b[0m \u001b[0;34m\u001b[0m\u001b[0m\n\u001b[0;32m--> 223\u001b[0;31m     \u001b[0m_display\u001b[0m \u001b[0;34m=\u001b[0m \u001b[0mDisplay\u001b[0m\u001b[0;34m(\u001b[0m\u001b[0mos\u001b[0m\u001b[0;34m.\u001b[0m\u001b[0menviron\u001b[0m\u001b[0;34m[\u001b[0m\u001b[0;34m'DISPLAY'\u001b[0m\u001b[0;34m]\u001b[0m\u001b[0;34m)\u001b[0m\u001b[0;34m\u001b[0m\u001b[0;34m\u001b[0m\u001b[0m\n\u001b[0m\u001b[1;32m    224\u001b[0m \u001b[0;34m\u001b[0m\u001b[0m\n\u001b[1;32m    225\u001b[0m     \u001b[0;32mdef\u001b[0m \u001b[0m_linuxPosition\u001b[0m\u001b[0;34m(\u001b[0m\u001b[0;34m)\u001b[0m\u001b[0;34m:\u001b[0m\u001b[0;34m\u001b[0m\u001b[0;34m\u001b[0m\u001b[0m\n",
            "\u001b[0;32m/usr/lib/python3.10/os.py\u001b[0m in \u001b[0;36m__getitem__\u001b[0;34m(self, key)\u001b[0m\n\u001b[1;32m    678\u001b[0m         \u001b[0;32mexcept\u001b[0m \u001b[0mKeyError\u001b[0m\u001b[0;34m:\u001b[0m\u001b[0;34m\u001b[0m\u001b[0;34m\u001b[0m\u001b[0m\n\u001b[1;32m    679\u001b[0m             \u001b[0;31m# raise KeyError with the original key value\u001b[0m\u001b[0;34m\u001b[0m\u001b[0;34m\u001b[0m\u001b[0m\n\u001b[0;32m--> 680\u001b[0;31m             \u001b[0;32mraise\u001b[0m \u001b[0mKeyError\u001b[0m\u001b[0;34m(\u001b[0m\u001b[0mkey\u001b[0m\u001b[0;34m)\u001b[0m \u001b[0;32mfrom\u001b[0m \u001b[0;32mNone\u001b[0m\u001b[0;34m\u001b[0m\u001b[0;34m\u001b[0m\u001b[0m\n\u001b[0m\u001b[1;32m    681\u001b[0m         \u001b[0;32mreturn\u001b[0m \u001b[0mself\u001b[0m\u001b[0;34m.\u001b[0m\u001b[0mdecodevalue\u001b[0m\u001b[0;34m(\u001b[0m\u001b[0mvalue\u001b[0m\u001b[0;34m)\u001b[0m\u001b[0;34m\u001b[0m\u001b[0;34m\u001b[0m\u001b[0m\n\u001b[1;32m    682\u001b[0m \u001b[0;34m\u001b[0m\u001b[0m\n",
            "\u001b[0;31mKeyError\u001b[0m: 'DISPLAY'"
          ]
        }
      ]
    },
    {
      "cell_type": "code",
      "source": [
        "#class and object\n",
        "\n",
        "class House:\n",
        "  color=\"yellow\"\n",
        "  room=5\n",
        "\n",
        "  def info(self):\n",
        "    print(\" house has\" ,self.color,self.room)\n",
        "\n",
        "h1=House()\n",
        "h1.info()"
      ],
      "metadata": {
        "id": "u7BrpG_Q1Y0j",
        "colab": {
          "base_uri": "https://localhost:8080/"
        },
        "outputId": "51fdf20c-a1cc-4cb9-96e1-624a18e3c2d3"
      },
      "execution_count": null,
      "outputs": [
        {
          "output_type": "stream",
          "name": "stdout",
          "text": [
            " house has yellow 5\n"
          ]
        }
      ]
    },
    {
      "cell_type": "code",
      "source": [
        "h2=House()\n",
        "h2.room=10\n",
        "print(h2.room)"
      ],
      "metadata": {
        "id": "pm4EgtBQwIGb"
      },
      "execution_count": null,
      "outputs": []
    },
    {
      "cell_type": "code",
      "source": [
        "# function\n",
        "#pbject= memory assign karwata\n",
        "#object vaiable- initialize\n",
        "\n",
        "class House:\n",
        "  def __init__(self,color):\n",
        "    print(\"hello\",color)"
      ],
      "metadata": {
        "id": "zYISjxymwIK4"
      },
      "execution_count": null,
      "outputs": []
    },
    {
      "cell_type": "code",
      "source": [
        "House(\"green\")"
      ],
      "metadata": {
        "colab": {
          "base_uri": "https://localhost:8080/"
        },
        "id": "6jS7Axa8wIO8",
        "outputId": "63e0bfc7-68ce-491e-90a1-ef88a85152e9"
      },
      "execution_count": null,
      "outputs": [
        {
          "output_type": "stream",
          "name": "stdout",
          "text": [
            "hello green\n"
          ]
        },
        {
          "output_type": "execute_result",
          "data": {
            "text/plain": [
              "<__main__.House at 0x782af96e3fd0>"
            ]
          },
          "metadata": {},
          "execution_count": 15
        }
      ]
    },
    {
      "cell_type": "code",
      "source": [
        "class House:\n",
        "  def __init__(self,color,room):\n",
        "    self.hcolor=color\n",
        "    self.hroom=room\n",
        "\n",
        "\n",
        "h1=House(\"yellow\",5)\n",
        "print(h1.hcolor,h1.hroom)\n",
        "\n"
      ],
      "metadata": {
        "colab": {
          "base_uri": "https://localhost:8080/"
        },
        "id": "8JVY33ZQwIR7",
        "outputId": "4cda29a4-32b7-4d8b-8110-12e71129e285"
      },
      "execution_count": null,
      "outputs": [
        {
          "output_type": "stream",
          "name": "stdout",
          "text": [
            "yellow 5\n"
          ]
        }
      ]
    },
    {
      "cell_type": "code",
      "source": [
        "class Employee:\n",
        "  def __init__(self,ename,company,salary):\n",
        "      self.hename=ename\n",
        "      self.hcompany=company\n",
        "      self.hsalary=salary\n",
        "\n",
        "\n",
        "h=Employee(\"ajay\",\"yyy\",1234)\n",
        "print(h.hename,h.hcompany,h.hsalary)"
      ],
      "metadata": {
        "colab": {
          "base_uri": "https://localhost:8080/"
        },
        "id": "FFewin9twIVm",
        "outputId": "bd9cac56-5d63-408b-e3e3-1f0c265a8a04"
      },
      "execution_count": null,
      "outputs": [
        {
          "output_type": "stream",
          "name": "stdout",
          "text": [
            "ajay yyy 1234\n"
          ]
        }
      ]
    },
    {
      "cell_type": "code",
      "source": [
        "#inheritance\n",
        "#already defined chizo dushri mai use krte hai\n",
        "#parent /base/ super class\n",
        "#child/derived/sub class"
      ],
      "metadata": {
        "id": "af9ppxaM1Y3O",
        "colab": {
          "base_uri": "https://localhost:8080/"
        },
        "outputId": "589c6924-63e7-4961-9a37-3508e136f7b1"
      },
      "execution_count": null,
      "outputs": [
        {
          "output_type": "stream",
          "name": "stdout",
          "text": [
            "10\n"
          ]
        }
      ]
    },
    {
      "cell_type": "code",
      "source": [
        "class Family:\n",
        "      amount=1000\n",
        "class children (Family):\n",
        "  pocket_money=50\n",
        "  print(Family.amount)\n",
        "\n",
        "c1=children()\n",
        "c1.pocket_money\n",
        "\n",
        "c1.amount\n"
      ],
      "metadata": {
        "colab": {
          "base_uri": "https://localhost:8080/"
        },
        "id": "wuVCNoc54VZz",
        "outputId": "fa5f9a0d-4a9d-4ea7-e7f9-8e7776f5617e"
      },
      "execution_count": null,
      "outputs": [
        {
          "output_type": "stream",
          "name": "stdout",
          "text": [
            "1000\n"
          ]
        },
        {
          "output_type": "execute_result",
          "data": {
            "text/plain": [
              "1000"
            ]
          },
          "metadata": {},
          "execution_count": 29
        }
      ]
    },
    {
      "cell_type": "code",
      "source": [
        "class Driver:\n",
        "  def __init__(self,id,name,email):\n",
        "    self.id=id\n",
        "    self.name=name\n",
        "    self.email=email\n",
        "\n",
        "\n",
        "class Customer(Driver):\n",
        "  def __init__(cself,cid,cname,cemail):\n",
        "    super().__init__(cid,cname,cemail)\n",
        "\n",
        "c1=Customer(99,\"naina\",\"naina@gmail.com\")\n",
        "c1.name"
      ],
      "metadata": {
        "colab": {
          "base_uri": "https://localhost:8080/",
          "height": 36
        },
        "id": "cNZsJi2e4VeS",
        "outputId": "be9c90bf-3cc3-4f24-d6a1-42f464ed5cc5"
      },
      "execution_count": null,
      "outputs": [
        {
          "output_type": "execute_result",
          "data": {
            "text/plain": [
              "'naina'"
            ],
            "application/vnd.google.colaboratory.intrinsic+json": {
              "type": "string"
            }
          },
          "metadata": {},
          "execution_count": 30
        }
      ]
    },
    {
      "cell_type": "code",
      "source": [
        "#multiple\n",
        "class Grand:\n",
        "\n",
        "  amount=100\n",
        "\n",
        "\n",
        "class Father:\n",
        "  r=90\n",
        "  print(Grand.amount)\n",
        "\n",
        "\n",
        "class Son:\n",
        "  e=89\n",
        "  print(Father.r)\n",
        "\n",
        "\n",
        "ob=Son()\n",
        "ob.e\n",
        "\n"
      ],
      "metadata": {
        "colab": {
          "base_uri": "https://localhost:8080/"
        },
        "id": "Uf0rHAWP4Vgv",
        "outputId": "f3fe0137-8067-44aa-f30f-d104548b87c9"
      },
      "execution_count": null,
      "outputs": [
        {
          "output_type": "stream",
          "name": "stdout",
          "text": [
            "100\n",
            "90\n"
          ]
        },
        {
          "output_type": "execute_result",
          "data": {
            "text/plain": [
              "89"
            ]
          },
          "metadata": {},
          "execution_count": 31
        }
      ]
    },
    {
      "cell_type": "code",
      "source": [
        "\n",
        "class X:\n",
        "  def __init__(self,age):\n",
        "      self.age=age\n",
        "\n",
        "\n",
        "class Y:\n",
        "  def __init__(self,dob):\n",
        "    self.dob=dob\n",
        "\n",
        "\n",
        "\n",
        "class Z (X,y):\n",
        "  print(dob,age)\n",
        "\n",
        "\n",
        "\n"
      ],
      "metadata": {
        "id": "EiftpEwl4Vj5"
      },
      "execution_count": null,
      "outputs": []
    },
    {
      "cell_type": "code",
      "source": [
        "#whatt is mro method resolution order"
      ],
      "metadata": {
        "id": "VsCpDvSC4Vo8"
      },
      "execution_count": null,
      "outputs": []
    },
    {
      "cell_type": "code",
      "source": [
        "#polymorphim\n",
        "#many form\n",
        "\n",
        "class Vechicle:\n",
        "  def info(self):\n",
        "    print(\"this is vechilc\")\n",
        "\n",
        "\n",
        "class Tatamoter(Vechicle):\n",
        "    def info(self):\n",
        "        print(\"this is tata class\")\n",
        "\n",
        "c1=Tatamoter()\n",
        "c1.info"
      ],
      "metadata": {
        "id": "VVU1N1gq4VtR"
      },
      "execution_count": null,
      "outputs": []
    },
    {
      "cell_type": "code",
      "source": [
        "class Employee:\n",
        "  def __init__(self,num1):\n",
        "      self.num1=num1\n",
        "\n",
        "\n",
        "  def __repr__(self):\n",
        "    return f\"employee class has value {self.num1}\"\n",
        "\n",
        "\n",
        "  def __add__(x,y):\n",
        "    print(\"hello\",x,y.num1)\n",
        "\n",
        "\n",
        "\n",
        "e1=Employee(10)\n",
        "print(e1)\n",
        "\n",
        "e2=Employee(90)\n",
        "print(e2)\n"
      ],
      "metadata": {
        "id": "s8GvFoud4Vvz",
        "colab": {
          "base_uri": "https://localhost:8080/"
        },
        "outputId": "5e7e42c5-5d31-4e93-d645-618d00f7bbc0"
      },
      "execution_count": null,
      "outputs": [
        {
          "output_type": "stream",
          "name": "stdout",
          "text": [
            "employee class has value 10\n",
            "employee class has value 90\n"
          ]
        }
      ]
    },
    {
      "cell_type": "code",
      "source": [
        "class X:\n",
        "  a1=10\n",
        "  b1=20\n",
        "\n",
        "class Y:\n",
        "  a2=20\n",
        "  b2=30\n",
        "\n",
        "\n"
      ],
      "metadata": {
        "id": "yQHmXoP34Vy3"
      },
      "execution_count": null,
      "outputs": []
    },
    {
      "cell_type": "code",
      "source": [
        "#protected_  and double undderscore(__) use private\n",
        "\n",
        "class Parents:\n",
        "     _amount=100; # _ is protected\n",
        "\n",
        "\n",
        "p1=Parents()\n",
        "p1._Parents_amount\n"
      ],
      "metadata": {
        "id": "OgcARLil4V2J"
      },
      "execution_count": null,
      "outputs": []
    },
    {
      "cell_type": "code",
      "source": [
        "a=10\n",
        "b=20\n",
        "\n",
        "\n",
        "a=a+b\n",
        "b=a-b\n",
        "a=a-b\n",
        "print(a,b)"
      ],
      "metadata": {
        "id": "gJJnptO44V5d",
        "colab": {
          "base_uri": "https://localhost:8080/"
        },
        "outputId": "8f389239-e94b-41b3-8600-bb0db3dd8ff5"
      },
      "execution_count": null,
      "outputs": [
        {
          "output_type": "stream",
          "name": "stdout",
          "text": [
            "20 10\n"
          ]
        }
      ]
    },
    {
      "cell_type": "code",
      "source": [],
      "metadata": {
        "id": "oz9jRb7y4V8-"
      },
      "execution_count": null,
      "outputs": []
    }
  ]
}