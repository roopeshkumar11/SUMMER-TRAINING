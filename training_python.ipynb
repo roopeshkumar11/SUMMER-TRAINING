{
  "nbformat": 4,
  "nbformat_minor": 0,
  "metadata": {
    "colab": {
      "provenance": [],
      "toc_visible": true,
      "authorship_tag": "ABX9TyOBt9Jbewv2j3XYuTsKPHfr",
      "include_colab_link": true
    },
    "kernelspec": {
      "name": "python3",
      "display_name": "Python 3"
    },
    "language_info": {
      "name": "python"
    }
  },
  "cells": [
    {
      "cell_type": "markdown",
      "metadata": {
        "id": "view-in-github",
        "colab_type": "text"
      },
      "source": [
        "<a href=\"https://colab.research.google.com/github/roopeshkumar11/SUMMER-TRAINING/blob/main/training_python.ipynb\" target=\"_parent\"><img src=\"https://colab.research.google.com/assets/colab-badge.svg\" alt=\"Open In Colab\"/></a>"
      ]
    },
    {
      "cell_type": "code",
      "execution_count": null,
      "metadata": {
        "colab": {
          "base_uri": "https://localhost:8080/"
        },
        "id": "9nWYn8gA0daR",
        "outputId": "17eff593-4c07-4eed-db29-b27130a9b1dc"
      },
      "outputs": [
        {
          "output_type": "stream",
          "name": "stdout",
          "text": [
            "hello\n"
          ]
        }
      ],
      "source": [
        "print(\"hello\")"
      ]
    },
    {
      "cell_type": "markdown",
      "source": [
        "# New Section"
      ],
      "metadata": {
        "id": "bN8tqVv5hDXc"
      }
    },
    {
      "cell_type": "code",
      "source": [
        "address=\"\"\" mahatama ghandhi\n",
        "gopalpura by pass\n",
        "jaipur\"\"\"\n",
        "\n",
        "print(address)"
      ],
      "metadata": {
        "colab": {
          "base_uri": "https://localhost:8080/"
        },
        "id": "KBoW83vc1R7u",
        "outputId": "7015fac8-9276-4ff3-9f30-ac60ab0df436"
      },
      "execution_count": null,
      "outputs": [
        {
          "output_type": "stream",
          "name": "stdout",
          "text": [
            " mahatama ghandhi\n",
            "gopalpura by pass\n",
            "jaipur\n"
          ]
        }
      ]
    },
    {
      "cell_type": "code",
      "source": [
        "company=\"regex\"\n",
        "year=2024\n",
        "print(f\"company name is {company}  year is {year}\")"
      ],
      "metadata": {
        "colab": {
          "base_uri": "https://localhost:8080/"
        },
        "id": "L_zKHa1B2LtO",
        "outputId": "39a29add-00d5-418d-e680-625398030fde"
      },
      "execution_count": null,
      "outputs": [
        {
          "output_type": "stream",
          "name": "stdout",
          "text": [
            "company name is regex  year is 2024\n"
          ]
        }
      ]
    },
    {
      "cell_type": "code",
      "source": [
        "username=\"roopesh\"\n",
        "msg=f\"hey user {username}\"\n",
        "print(msg)\n",
        "\n",
        "username=\"aman\"\n",
        "print(msg)"
      ],
      "metadata": {
        "colab": {
          "base_uri": "https://localhost:8080/"
        },
        "id": "dR61TAIt22qx",
        "outputId": "9f705661-f5d5-418a-9e04-7b6d901134a5"
      },
      "execution_count": null,
      "outputs": [
        {
          "output_type": "stream",
          "name": "stdout",
          "text": [
            "hey user roopesh\n",
            "hey user roopesh\n"
          ]
        }
      ]
    },
    {
      "cell_type": "code",
      "source": [
        "1+5*4/2-7+8"
      ],
      "metadata": {
        "colab": {
          "base_uri": "https://localhost:8080/"
        },
        "id": "mPFpNCf93Ujg",
        "outputId": "916e7cf7-d0f7-43af-9475-a647271520ae"
      },
      "execution_count": null,
      "outputs": [
        {
          "output_type": "execute_result",
          "data": {
            "text/plain": [
              "12.0"
            ]
          },
          "metadata": {},
          "execution_count": 48
        }
      ]
    },
    {
      "cell_type": "code",
      "source": [
        "#mebership & identity\n",
        "\n",
        "\"j\" in \"jaipur\" #membership\n",
        "\n",
        "\"j\" not in \"jaipur\""
      ],
      "metadata": {
        "colab": {
          "base_uri": "https://localhost:8080/"
        },
        "id": "gJBBtKNg3Un8",
        "outputId": "50077b8f-a0be-424c-89cb-c57875c55266"
      },
      "execution_count": null,
      "outputs": [
        {
          "output_type": "execute_result",
          "data": {
            "text/plain": [
              "False"
            ]
          },
          "metadata": {},
          "execution_count": 49
        }
      ]
    },
    {
      "cell_type": "code",
      "source": [
        "#identity\n",
        "#variable => data tpye\n",
        "#object belong to a class\n",
        "x=10\n",
        "type(x) is int"
      ],
      "metadata": {
        "colab": {
          "base_uri": "https://localhost:8080/"
        },
        "id": "SjvRX4Wj3Upa",
        "outputId": "2b304f29-caef-43aa-cc6f-173e2a98e162"
      },
      "execution_count": null,
      "outputs": [
        {
          "output_type": "execute_result",
          "data": {
            "text/plain": [
              "True"
            ]
          },
          "metadata": {},
          "execution_count": 50
        }
      ]
    },
    {
      "cell_type": "code",
      "source": [
        "x=10\n",
        "type(x) is not int"
      ],
      "metadata": {
        "colab": {
          "base_uri": "https://localhost:8080/"
        },
        "id": "09AlcwLd3UrS",
        "outputId": "76415062-8a67-46c8-d341-740e9c5c4913"
      },
      "execution_count": null,
      "outputs": [
        {
          "output_type": "execute_result",
          "data": {
            "text/plain": [
              "False"
            ]
          },
          "metadata": {},
          "execution_count": 51
        }
      ]
    },
    {
      "cell_type": "code",
      "source": [
        "# == & is\n",
        "\n",
        "x=500\n",
        "y=500"
      ],
      "metadata": {
        "id": "a60Z_Ml53Ut6"
      },
      "execution_count": null,
      "outputs": []
    },
    {
      "cell_type": "code",
      "source": [
        "x==y"
      ],
      "metadata": {
        "colab": {
          "base_uri": "https://localhost:8080/"
        },
        "id": "ytnnUF_43Uxf",
        "outputId": "93edac3f-9b4a-4a50-8226-3ef41a2af387"
      },
      "execution_count": null,
      "outputs": [
        {
          "output_type": "execute_result",
          "data": {
            "text/plain": [
              "True"
            ]
          },
          "metadata": {},
          "execution_count": 53
        }
      ]
    },
    {
      "cell_type": "code",
      "source": [
        "x is y"
      ],
      "metadata": {
        "colab": {
          "base_uri": "https://localhost:8080/"
        },
        "id": "HhAxoqSU91oq",
        "outputId": "0b25b807-bc96-4704-8b73-22c911ee00d1"
      },
      "execution_count": null,
      "outputs": [
        {
          "output_type": "execute_result",
          "data": {
            "text/plain": [
              "False"
            ]
          },
          "metadata": {},
          "execution_count": 54
        }
      ]
    },
    {
      "cell_type": "code",
      "source": [
        "a=10\n",
        "b=69\n",
        "c=5\n",
        "\n",
        "if(a<b and a<c):\n",
        "   print(\"a is min\")\n",
        "elif(b<c ):\n",
        "   print(\" b is min\")\n",
        "else:\n",
        "  print(\"c mim\")\n"
      ],
      "metadata": {
        "colab": {
          "base_uri": "https://localhost:8080/"
        },
        "id": "cDeChUd191rh",
        "outputId": "fec2444e-2c20-4d82-866d-04535eb58e84"
      },
      "execution_count": null,
      "outputs": [
        {
          "output_type": "stream",
          "name": "stdout",
          "text": [
            "c mim\n"
          ]
        }
      ]
    },
    {
      "cell_type": "code",
      "source": [
        "a=int(input(\"enter\"))\n",
        "\n",
        "if(a>80):\n",
        "  print(\"exa\")\n",
        "\n",
        "elif(a>70 and a<80):\n",
        "  print(\"good\")\n",
        "elif(a>60):\n",
        "   print(\"average\")\n",
        "\n",
        "else:\n",
        "  print(\"bad\")"
      ],
      "metadata": {
        "id": "Cptu29_kDD8B"
      },
      "execution_count": null,
      "outputs": []
    },
    {
      "cell_type": "code",
      "source": [
        "#index\n",
        "\n",
        "\n",
        "state=\"Rajasthan\"\n",
        "state[-1]"
      ],
      "metadata": {
        "id": "DS6tJWhI91uX"
      },
      "execution_count": null,
      "outputs": []
    },
    {
      "cell_type": "code",
      "source": [
        "#silceing\n",
        "# [start: stop: [step:1]]\n",
        "\n",
        "print(state[0:4])\n",
        "print(state[0:6])\n",
        "print(state[0:4:2])\n",
        "print(state[0:4:-1])\n"
      ],
      "metadata": {
        "id": "GRM6J2Ul6quO"
      },
      "execution_count": null,
      "outputs": []
    },
    {
      "cell_type": "code",
      "source": [
        "state[-1:-4:-1]"
      ],
      "metadata": {
        "id": "sNnDQ2sB6q3B"
      },
      "execution_count": null,
      "outputs": []
    },
    {
      "cell_type": "code",
      "source": [
        "# loop (repetative)\n",
        " # range(start,stop, [step=1])\n",
        "# for i in range(0,10)\n"
      ],
      "metadata": {
        "id": "FATf8MIF6q7i"
      },
      "execution_count": null,
      "outputs": []
    },
    {
      "cell_type": "code",
      "source": [
        "for i in range(1,5):\n",
        "  print(i)"
      ],
      "metadata": {
        "id": "EY4_wpbn6q-w"
      },
      "execution_count": null,
      "outputs": []
    },
    {
      "cell_type": "code",
      "source": [
        "for i in range(1,8,3):\n",
        "  print(i)"
      ],
      "metadata": {
        "id": "-cRNpK1Q-DFG"
      },
      "execution_count": null,
      "outputs": []
    },
    {
      "cell_type": "code",
      "source": [
        "for i in \"hello\":\n",
        "  print(i)"
      ],
      "metadata": {
        "id": "w74SeTf7-DS5"
      },
      "execution_count": null,
      "outputs": []
    },
    {
      "cell_type": "code",
      "source": [
        "data=\"hello\"\n",
        "print(len(data))"
      ],
      "metadata": {
        "id": "L6q2Ab7_-DWd"
      },
      "execution_count": null,
      "outputs": []
    },
    {
      "cell_type": "code",
      "source": [
        "for index in range(0,5):\n",
        "  print(index,data,data[index])"
      ],
      "metadata": {
        "id": "HgOtrKzo-DYd"
      },
      "execution_count": null,
      "outputs": []
    },
    {
      "cell_type": "code",
      "source": [
        "b=\"ajay\"\n",
        "c=0\n",
        "for i in range(0, len(b)):\n",
        "  c=c+1\n",
        "print(c)\n",
        "\n"
      ],
      "metadata": {
        "id": "XHXpKOjy-Da_"
      },
      "execution_count": null,
      "outputs": []
    },
    {
      "cell_type": "code",
      "source": [
        "find=\"roopesh\"\n",
        "count=0\n",
        "for i in range(0,len(find)):\n",
        "  if(\"a\"==find[i] or \"i\"==find[i] or \"e\"==find[i] or \"o\"==find[i] or \"u\"==find[i]):\n",
        "    count=count+1\n",
        "print(count)"
      ],
      "metadata": {
        "id": "HDx0NMud-DeE"
      },
      "execution_count": null,
      "outputs": []
    },
    {
      "cell_type": "code",
      "source": [
        "for i in range(1,4):\n",
        "  print(\"hello\",i)\n",
        "\n",
        "  for j in range(1,4):\n",
        "    print(\"tushar\",j)"
      ],
      "metadata": {
        "id": "6hJJRRb3-Dg7"
      },
      "execution_count": null,
      "outputs": []
    },
    {
      "cell_type": "code",
      "source": [
        "for i in range(1,4):\n",
        "\n",
        "\n",
        "  for j in range(1,4):\n",
        "    print(\"*\",end=\"\")\n",
        "  print(\" \")\n",
        "\n"
      ],
      "metadata": {
        "id": "IQLp2Y97-DjU"
      },
      "execution_count": null,
      "outputs": []
    },
    {
      "cell_type": "code",
      "source": [
        "for i in range(1,6):\n",
        "\n",
        "\n",
        "  for j in range(1,6):\n",
        "    print(i,end=\"\")\n",
        "  print(\" \")"
      ],
      "metadata": {
        "id": "Iq0deOy7-DnE"
      },
      "execution_count": null,
      "outputs": []
    },
    {
      "cell_type": "code",
      "source": [
        "for i in range(1,6):\n",
        "\n",
        "\n",
        "  for j in range(1,6):\n",
        "    print(j,end=\"\")\n",
        "  print(\" \")"
      ],
      "metadata": {
        "id": "q6SdaDesF500"
      },
      "execution_count": null,
      "outputs": []
    },
    {
      "cell_type": "code",
      "source": [
        "for i in range(1, 6):\n",
        "    for j in range(-5,-0):\n",
        "        print(-j, end=\"\")\n",
        "    print(\" \")\n"
      ],
      "metadata": {
        "id": "eG5s2k1gF55t"
      },
      "execution_count": null,
      "outputs": []
    },
    {
      "cell_type": "code",
      "source": [
        "for i in range(1,6):\n",
        "\n",
        "\n",
        "  for j in range(1,i+1):\n",
        "    print(\"*\",end=\"\")\n",
        "  print(\" \")"
      ],
      "metadata": {
        "id": "S4OWNsBVF58B",
        "colab": {
          "base_uri": "https://localhost:8080/"
        },
        "outputId": "a6056385-8c64-47a4-c937-71988075a63c"
      },
      "execution_count": null,
      "outputs": [
        {
          "output_type": "stream",
          "name": "stdout",
          "text": [
            "* \n",
            "** \n",
            "*** \n",
            "**** \n",
            "***** \n"
          ]
        }
      ]
    },
    {
      "cell_type": "markdown",
      "source": [],
      "metadata": {
        "id": "1u6HiIMdHmAG"
      }
    },
    {
      "cell_type": "code",
      "source": [
        "for i in range(1,6):\n",
        "\n",
        "\n",
        "  for j in range(1,6-i):\n",
        "    print(\"*\",end=\"\")\n",
        "  print(\" \")"
      ],
      "metadata": {
        "id": "miU0TjjBHmp4"
      },
      "execution_count": null,
      "outputs": []
    },
    {
      "cell_type": "code",
      "source": [
        "p=27\n",
        "\n",
        "for i in range(2,27):\n",
        "  if(p%i==0):\n",
        "    print(\"not prime\")\n",
        "    break\n",
        "\n",
        "  else:\n",
        "    {\n",
        "       print(\"prime\")\n",
        "   }\n"
      ],
      "metadata": {
        "id": "e1NouV8KI7Cc"
      },
      "execution_count": null,
      "outputs": []
    },
    {
      "cell_type": "code",
      "source": [
        "for i in range(65,72):\n",
        "\n",
        "\n",
        "  for j in range(1,i+1):\n",
        "    print(chr(j),end=\"\")\n",
        "  print(\" \")"
      ],
      "metadata": {
        "id": "Q48bGUXII7O9"
      },
      "execution_count": null,
      "outputs": []
    },
    {
      "cell_type": "code",
      "source": [
        "for i in range(1,6):\n",
        "\n",
        "\n",
        "  for j in range(1,6-i):\n",
        "    print(\"$\",end=\"\")\n",
        "  for k in range(1,i+1):\n",
        "    print(\"*\",end=\"\")\n",
        "  print(\" \")"
      ],
      "metadata": {
        "id": "E-09B5SzI7S0"
      },
      "execution_count": null,
      "outputs": []
    },
    {
      "cell_type": "code",
      "source": [
        "#while loop\n",
        "\n",
        "i=1\n",
        "while(i<5):\n",
        "  print(\"hello\",i)\n",
        "  i+=1\n",
        "\n"
      ],
      "metadata": {
        "id": "qEQggBeEI7VK"
      },
      "execution_count": null,
      "outputs": []
    },
    {
      "cell_type": "code",
      "source": [
        "#lit:collection of element ,which has index positon\n",
        "#mututable\n",
        "#order collection of element\n"
      ],
      "metadata": {
        "id": "ggVJAZN3I7XQ"
      },
      "execution_count": null,
      "outputs": []
    },
    {
      "cell_type": "code",
      "source": [
        "mylist=[10,20,\"hello\"]\n",
        "print(type(mylist))"
      ],
      "metadata": {
        "id": "mlKWRZXMI7Zo"
      },
      "execution_count": null,
      "outputs": []
    },
    {
      "cell_type": "code",
      "source": [
        "mylist[0]=100"
      ],
      "metadata": {
        "id": "UbYNXqkbI7cx"
      },
      "execution_count": null,
      "outputs": []
    },
    {
      "cell_type": "code",
      "source": [
        "print(mylist[0:15])"
      ],
      "metadata": {
        "id": "34xmdaa96o5V"
      },
      "execution_count": null,
      "outputs": []
    },
    {
      "cell_type": "code",
      "source": [
        "mylist.append(50)\n",
        "print(mylist)"
      ],
      "metadata": {
        "id": "Chg9rSrKJFL6"
      },
      "execution_count": null,
      "outputs": []
    },
    {
      "cell_type": "code",
      "source": [
        "# add multiple elment using extend\n",
        "\n",
        "mylist.extend(\"hey\")\n",
        "print(mylist)"
      ],
      "metadata": {
        "id": "iEAafdMxJFQu"
      },
      "execution_count": null,
      "outputs": []
    },
    {
      "cell_type": "code",
      "source": [
        "mylist.extend([\"hey\"])\n",
        "print(mylist)"
      ],
      "metadata": {
        "id": "-fZj5uT7JFUf"
      },
      "execution_count": null,
      "outputs": []
    },
    {
      "cell_type": "code",
      "source": [
        "help (mylist)"
      ],
      "metadata": {
        "collapsed": true,
        "id": "-rMcLFvhJFXN"
      },
      "execution_count": null,
      "outputs": []
    },
    {
      "cell_type": "code",
      "source": [
        "mylist.pop()\n",
        "print(mylist)"
      ],
      "metadata": {
        "id": "61IucVw1JFaW"
      },
      "execution_count": null,
      "outputs": []
    },
    {
      "cell_type": "code",
      "source": [
        "mylist.remove(\"hello\")\n",
        "print(mylist)"
      ],
      "metadata": {
        "id": "pi5co-sRJFds"
      },
      "execution_count": null,
      "outputs": []
    },
    {
      "cell_type": "code",
      "source": [
        "checklist=[10,20,300,\"heyy\",\"11.5\"]\n",
        "new1=[]\n",
        "for i in checklist:\n",
        "  if(type(i) is int):\n",
        "    new1.append(i**2)\n",
        "print(new1)\n",
        "\n",
        "\n"
      ],
      "metadata": {
        "id": "x2NJZLUAJFgy"
      },
      "execution_count": null,
      "outputs": []
    },
    {
      "cell_type": "code",
      "source": [
        "num=153\n",
        "x=num\n",
        "total=0\n",
        "while(num>0):\n",
        "  rem=num%10\n",
        "  total+=rem**3\n",
        "  num=num//10\n",
        "if(total==x):\n",
        "  print(\"armstrong\")\n",
        "\n",
        "else:\n",
        "  print(\"not arm\")\n",
        "\n",
        "\n"
      ],
      "metadata": {
        "id": "Y7qbZorgJFjZ"
      },
      "execution_count": null,
      "outputs": []
    },
    {
      "cell_type": "code",
      "source": [
        "#tuple\n",
        "#immutable\n",
        "# faster\n",
        "\n",
        "mytuple=10,20,30\n",
        "print(type(mytuple))"
      ],
      "metadata": {
        "id": "EgClzOQNSDQz"
      },
      "execution_count": null,
      "outputs": []
    },
    {
      "cell_type": "code",
      "source": [
        "#only two method count and index\n",
        "print(\"before\",id(mytuple))\n",
        "mytuple=mytuple+(60,70)\n",
        "print(mytuple)\n",
        "print(\"after\",id(mytuple))"
      ],
      "metadata": {
        "id": "9T5ILI4iSDT_"
      },
      "execution_count": null,
      "outputs": []
    },
    {
      "cell_type": "code",
      "source": [
        "#dictionary\n",
        "#collectiom of elment key:value\n",
        "#key:identifier\n",
        "#value\n",
        "#order collection of element\n",
        "\n"
      ],
      "metadata": {
        "id": "3RaSfoUUSDhf"
      },
      "execution_count": null,
      "outputs": []
    },
    {
      "cell_type": "code",
      "source": [
        "mydictinar={10:\"tushar\", 20:\"abhishek\"}\n",
        "mydictinar"
      ],
      "metadata": {
        "id": "2h0lmn9cSDkq"
      },
      "execution_count": null,
      "outputs": []
    },
    {
      "cell_type": "code",
      "source": [
        "#upadte\n",
        "mydictinar[10]=\"aman\"\n",
        "print(mydictinar)\n"
      ],
      "metadata": {
        "id": "M1fIDns3SDnj"
      },
      "execution_count": null,
      "outputs": []
    },
    {
      "cell_type": "code",
      "source": [
        "#insert\n",
        "mydictinar[30]=\"aman\"\n",
        "print(mydictinar)"
      ],
      "metadata": {
        "id": "xLsr7202SDqn"
      },
      "execution_count": null,
      "outputs": []
    },
    {
      "cell_type": "code",
      "source": [
        "#delete\n",
        "mydictinar.pop(10)\n",
        "print(mydictinar)\n",
        "\n"
      ],
      "metadata": {
        "id": "wi-8lep0X2zp"
      },
      "execution_count": null,
      "outputs": []
    },
    {
      "cell_type": "code",
      "source": [
        "sampledic={}\n",
        "for i in \"hello\":\n",
        "\n",
        "  sampledic[i]=1\n",
        "print(sampledic)\n"
      ],
      "metadata": {
        "id": "OSJ4b2CgX3BE"
      },
      "execution_count": null,
      "outputs": []
    },
    {
      "cell_type": "code",
      "source": [
        "# function\n",
        "#block of code\n",
        "\n",
        "# def functname():\n",
        "     # statement\n",
        "\n",
        "def msg(x,y):\n",
        "  print(\"hello\",x,y)\n",
        "  return x+y\n",
        "  return 0\n",
        "\n",
        "\n",
        "out=msg(10,20);  # tushar is argument\n",
        "print(out)\n",
        "\n",
        "\n"
      ],
      "metadata": {
        "id": "0ZdhxCpgX3GQ",
        "colab": {
          "base_uri": "https://localhost:8080/"
        },
        "outputId": "7107f5ac-8ef9-4c6f-c425-bf9b8ec035ae"
      },
      "execution_count": null,
      "outputs": [
        {
          "output_type": "stream",
          "name": "stdout",
          "text": [
            "hello 10 20\n",
            "30\n"
          ]
        }
      ]
    },
    {
      "cell_type": "code",
      "source": [
        "def func(a):\n",
        "  a=a+5\n",
        "\n",
        "\n",
        "a=10\n",
        "print(\"before functio\",a)\n",
        "func(a)\n",
        "print(\"after functio\",a)\n"
      ],
      "metadata": {
        "colab": {
          "base_uri": "https://localhost:8080/"
        },
        "id": "jxnqnKonZbWx",
        "outputId": "2c9f6f76-6a43-4250-b5ff-eeb653203547"
      },
      "execution_count": null,
      "outputs": [
        {
          "output_type": "stream",
          "name": "stdout",
          "text": [
            "before functio 10\n",
            "after functio 10\n"
          ]
        }
      ]
    },
    {
      "cell_type": "code",
      "source": [
        "def demo(first, sec, third):\n",
        "    if first > sec and first > third:\n",
        "        print(\"excellent\")\n",
        "    elif sec > third:\n",
        "        print(\"good\")\n",
        "    else:\n",
        "        print(\"average\")\n",
        "\n",
        "\n",
        "demo(3,2,1)\n",
        "demo(1,32,3)\n",
        "demo(1,5,36)\n",
        "\n"
      ],
      "metadata": {
        "colab": {
          "base_uri": "https://localhost:8080/"
        },
        "id": "sx2FGSjRZbs9",
        "outputId": "3384f79d-3a49-49bb-cb5d-cb9df10bedeb"
      },
      "execution_count": null,
      "outputs": [
        {
          "output_type": "stream",
          "name": "stdout",
          "text": [
            "excellent\n",
            "good\n",
            "average\n"
          ]
        }
      ]
    },
    {
      "cell_type": "code",
      "source": [
        "def lcm(x,y):\n",
        "  if(x>y):\n",
        "\n",
        "\n",
        "       greatest=x\n",
        "  else:\n",
        "    greatest=y\n",
        "  while(True):\n",
        "    if(greatest%x==0 and greatest%y==0):\n",
        "      print(\"lcm is\",greatest)\n",
        "      return\n",
        "    else:\n",
        "      greatest+=1\n",
        "\n",
        "\n",
        "\n",
        "lcm(3,21)\n"
      ],
      "metadata": {
        "colab": {
          "base_uri": "https://localhost:8080/"
        },
        "id": "E49wSYqxZbvo",
        "outputId": "f8d00ade-92fe-4004-b6db-898d11668e92"
      },
      "execution_count": null,
      "outputs": [
        {
          "output_type": "stream",
          "name": "stdout",
          "text": [
            "lcm is 21\n"
          ]
        }
      ]
    },
    {
      "cell_type": "code",
      "source": [
        "def employee(eid,name,email):\n",
        "  print(f\"eid is{eid}\\nemail is {email}\")\n",
        "\n",
        "\n",
        "employee(90,\"naina\")  #nnumber of parameter should be nnmber of argument is  requird argument\n"
      ],
      "metadata": {
        "id": "DVWeSfMSZbys"
      },
      "execution_count": null,
      "outputs": []
    },
    {
      "cell_type": "code",
      "source": [
        "#psotion argumnet\n",
        "def employee(eid,name,email):\n",
        "  print(f\"eid is{eid} \\n name is{name}\\nemail is {email}\")\n",
        "\n",
        "\n",
        "employee(\"naina@gamil.com\",90,\"naina\")"
      ],
      "metadata": {
        "colab": {
          "base_uri": "https://localhost:8080/"
        },
        "id": "bHTHJ3D6Zb2F",
        "outputId": "247db2d6-4fec-4871-ec30-e9acbf633d15"
      },
      "execution_count": null,
      "outputs": [
        {
          "output_type": "stream",
          "name": "stdout",
          "text": [
            "eid isnaina@gamil.com \n",
            " name is90\n",
            "email is naina\n"
          ]
        }
      ]
    },
    {
      "cell_type": "code",
      "source": [
        "#keyword argumnet\n",
        "def employee(eid,name,email):\n",
        "  print(f\"eid is{eid} \\n name is{name}\\nemail is {email}\")\n",
        "\n",
        "\n",
        "employee(email=\"naina@gamil.com\",eid=90,name=\"naina\")"
      ],
      "metadata": {
        "id": "ap0cPc27X3IX",
        "colab": {
          "base_uri": "https://localhost:8080/"
        },
        "outputId": "a66ee633-6a9f-4c17-97ef-c29ba9ba28a8"
      },
      "execution_count": null,
      "outputs": [
        {
          "output_type": "stream",
          "name": "stdout",
          "text": [
            "eid is90 \n",
            " name isnaina\n",
            "email is naina@gamil.com\n"
          ]
        }
      ]
    },
    {
      "cell_type": "code",
      "source": [
        "#default\n",
        "\n",
        "def employee(eid,name,email=\"naina@gamil.com\"):\n",
        "  print(f\"eid is{eid} \\n name is{name}\\nemail is {email}\")\n",
        "\n",
        "\n",
        "employee(eid=90,name=\"naina\")"
      ],
      "metadata": {
        "id": "dUKkc29iJFmg",
        "colab": {
          "base_uri": "https://localhost:8080/"
        },
        "outputId": "200d5549-01ee-4ef6-a980-8ad93cb11df2"
      },
      "execution_count": null,
      "outputs": [
        {
          "output_type": "stream",
          "name": "stdout",
          "text": [
            "eid is90 \n",
            " name isnaina\n",
            "email is naina@gamil.com\n"
          ]
        }
      ]
    },
    {
      "cell_type": "code",
      "source": [
        "# variable lenght argument (args)\n",
        "def  facebook(*data):\n",
        "    print(data,type(data))\n",
        "\n",
        "facebook(10,10,30,9,8,4)\n",
        "facebook(\"roop@gamil.com\",\"regex\",100)\n",
        "facebook(\"amzon\",\"nidhi\")"
      ],
      "metadata": {
        "colab": {
          "base_uri": "https://localhost:8080/"
        },
        "id": "ygUOVb7clfZb",
        "outputId": "54e26c7c-3200-4bb9-8068-118bc2363250"
      },
      "execution_count": null,
      "outputs": [
        {
          "output_type": "stream",
          "name": "stdout",
          "text": [
            "(10, 10, 30, 9, 8, 4) <class 'tuple'>\n"
          ]
        }
      ]
    },
    {
      "cell_type": "code",
      "source": [
        "# keyword variable lenght argument(kwargs)\n",
        "#args,kwargs\n",
        "def  facebook(**data):\n",
        "    print(data,type(data))\n",
        "\n",
        "\n",
        "facebook(usrenam=\"roop@gamil.com\",company=\"regex\",id=100)\n",
        "\n"
      ],
      "metadata": {
        "colab": {
          "base_uri": "https://localhost:8080/"
        },
        "id": "vNkDNW8HlfWe",
        "outputId": "6304dcb2-a84f-45e3-891e-c1124ada9288"
      },
      "execution_count": null,
      "outputs": [
        {
          "output_type": "stream",
          "name": "stdout",
          "text": [
            "{'usrenam': 'roop@gamil.com', 'company': 'regex', 'id': 100} <class 'dict'>\n"
          ]
        }
      ]
    },
    {
      "cell_type": "code",
      "source": [
        "#high order function\n",
        "#which take another functiom as a argumrnt\n",
        "\n",
        "def sq(x):\n",
        "  print(x*x)\n",
        "\n",
        "\n",
        "def add(x,func):\n",
        "  print(x,func)\n",
        "add(10,sq(5))\n"
      ],
      "metadata": {
        "colab": {
          "base_uri": "https://localhost:8080/"
        },
        "id": "U2O3UcqblfT-",
        "outputId": "26ac84b7-c37c-4a33-bab9-cc8168d5b87b"
      },
      "execution_count": null,
      "outputs": [
        {
          "output_type": "stream",
          "name": "stdout",
          "text": [
            "25\n",
            "10 None\n"
          ]
        }
      ]
    },
    {
      "cell_type": "code",
      "source": [
        "def sq(x):\n",
        "  return x*x\n",
        "\n",
        "\n",
        "def add(x,func):\n",
        "  print(x,func)\n",
        "add(10,sq(5))"
      ],
      "metadata": {
        "colab": {
          "base_uri": "https://localhost:8080/"
        },
        "id": "GRN8jsVKlfRd",
        "outputId": "c81c46dd-a287-4751-dba2-1a52e5b802b0"
      },
      "execution_count": null,
      "outputs": [
        {
          "output_type": "stream",
          "name": "stdout",
          "text": [
            "10 25\n"
          ]
        }
      ]
    },
    {
      "cell_type": "code",
      "source": [
        "\n",
        "squared_numbers = [x ** 2 for x in range(1, 11)]\n",
        "\n",
        "print(squared_numbers)\n"
      ],
      "metadata": {
        "colab": {
          "base_uri": "https://localhost:8080/"
        },
        "id": "PYdgECG2lfPB",
        "outputId": "87be3f21-e24d-491e-b822-366c55777979"
      },
      "execution_count": null,
      "outputs": [
        {
          "output_type": "stream",
          "name": "stdout",
          "text": [
            "[1, 4, 9, 16, 25, 36, 49, 64, 81, 100]\n"
          ]
        }
      ]
    },
    {
      "cell_type": "code",
      "source": [
        "\n",
        "\n",
        "for i in range(1, 6):\n",
        "    for j in range(0, i):\n",
        "\n",
        "        print(chr(65 + j), end=\"\")\n",
        "    print(\" \")"
      ],
      "metadata": {
        "colab": {
          "base_uri": "https://localhost:8080/"
        },
        "id": "H-wYh-MflfL4",
        "outputId": "ace016c3-976f-43f0-e338-2b535b5f032e"
      },
      "execution_count": null,
      "outputs": [
        {
          "output_type": "stream",
          "name": "stdout",
          "text": [
            "A \n",
            "AB \n",
            "ABC \n",
            "ABCD \n",
            "ABCDE \n"
          ]
        }
      ]
    },
    {
      "cell_type": "code",
      "source": [],
      "metadata": {
        "id": "jFl3-qEf4p09"
      },
      "execution_count": null,
      "outputs": []
    },
    {
      "cell_type": "code",
      "source": [
        "for i in range(1, 6):\n",
        "    for j in range(0, 6 - i):\n",
        "        print(chr(65 + j), end=\"\")\n",
        "    for k in range(1, i + 1):\n",
        "        print(k, end=\"\")\n",
        "    print()\n"
      ],
      "metadata": {
        "colab": {
          "base_uri": "https://localhost:8080/"
        },
        "id": "jTfUs50UlfJC",
        "outputId": "2813d593-2617-447f-a062-964b72aeb8d5"
      },
      "execution_count": null,
      "outputs": [
        {
          "output_type": "stream",
          "name": "stdout",
          "text": [
            "ABCDE1\n",
            "ABCD12\n",
            "ABC123\n",
            "AB1234\n",
            "A12345\n"
          ]
        }
      ]
    },
    {
      "cell_type": "code",
      "source": [
        "for i in range(1, 6):\n",
        "    for j in range(1, 6 - i + 1):\n",
        "        print(j, end=\"\")\n",
        "    for k in range(1, i + 1):\n",
        "        print(\"*\", end=\"\")\n",
        "    print()\n"
      ],
      "metadata": {
        "colab": {
          "base_uri": "https://localhost:8080/"
        },
        "id": "eQcPGg6slfE-",
        "outputId": "34fc63c4-b081-4160-fa9b-b102de7009b7"
      },
      "execution_count": null,
      "outputs": [
        {
          "output_type": "stream",
          "name": "stdout",
          "text": [
            "12345*\n",
            "1234**\n",
            "123***\n",
            "12****\n",
            "1*****\n"
          ]
        }
      ]
    },
    {
      "cell_type": "code",
      "source": [
        "#lambda functioon\n",
        "#annoymous (gumnaame)\n",
        "#lambda se start\n",
        "#lambda\n",
        "\n",
        "\n",
        "out =lambda x: x+10 #fucntion store in variable called frist class\n",
        "out(5)"
      ],
      "metadata": {
        "id": "qHAq81IQleyi",
        "colab": {
          "base_uri": "https://localhost:8080/"
        },
        "outputId": "72febec6-7147-4ea8-b5de-96e28a119cb5"
      },
      "execution_count": null,
      "outputs": [
        {
          "output_type": "execute_result",
          "data": {
            "text/plain": [
              "15"
            ]
          },
          "metadata": {},
          "execution_count": 2
        }
      ]
    },
    {
      "cell_type": "code",
      "source": [
        "#high orderfunction map filter reduce\n",
        "#map(function,iterable)\n",
        "def square(x):\n",
        "   return x*x\n",
        "\n",
        "\n",
        "mylist=[1,2,3,4,5]\n",
        "\n",
        "ans=list(map(square,mylist))\n",
        "\n",
        "print(ans)"
      ],
      "metadata": {
        "colab": {
          "base_uri": "https://localhost:8080/"
        },
        "id": "CFx6FGsPlqW-",
        "outputId": "d65ea30b-22e3-4d30-bca8-2c6a6f373f6b"
      },
      "execution_count": null,
      "outputs": [
        {
          "output_type": "stream",
          "name": "stdout",
          "text": [
            "[1, 4, 9, 16, 25]\n"
          ]
        }
      ]
    },
    {
      "cell_type": "code",
      "source": [],
      "metadata": {
        "id": "uZ9m607vsier"
      },
      "execution_count": null,
      "outputs": []
    },
    {
      "cell_type": "code",
      "source": [
        "mylist=[1,2,3,4,5]\n",
        "\n",
        "ans=list(map(lambda x:x*x,mylist))\n",
        "\n",
        "print(ans)"
      ],
      "metadata": {
        "colab": {
          "base_uri": "https://localhost:8080/"
        },
        "id": "4CrJLlrdlqZ5",
        "outputId": "348102f8-3ace-4d70-935e-0133e6252b25"
      },
      "execution_count": null,
      "outputs": [
        {
          "output_type": "stream",
          "name": "stdout",
          "text": [
            "[1, 4, 9, 16, 25]\n"
          ]
        }
      ]
    },
    {
      "cell_type": "code",
      "source": [
        "filobje=(\"file.txt\",\"r\")\n",
        "obj=filobje.read()\n",
        "filobje.close()\n",
        "\n",
        "print(obj)"
      ],
      "metadata": {
        "id": "OGZXkGYplqc0"
      },
      "execution_count": null,
      "outputs": []
    },
    {
      "cell_type": "code",
      "source": [
        "filobje=(\"file.txt\",\"r+\")\n",
        "print(filobje.tell())\n",
        "filobje.write(\"tushar\")\n",
        "filobje.seek(2)\n",
        "print(\"after write\", filobje.tell())\n",
        "\n",
        "x=filobje.read()\n",
        "filobje.close()\n",
        "\n",
        "print(x)"
      ],
      "metadata": {
        "id": "5RwkoJ95sTPf"
      },
      "execution_count": null,
      "outputs": []
    },
    {
      "cell_type": "code",
      "source": [
        "with open(\"file.text\",\"r\") as fileobj:\n",
        "     x=fileobj.read()\n",
        "print(x)\n",
        "\n",
        "\n"
      ],
      "metadata": {
        "id": "i31HfvNBlqfy"
      },
      "execution_count": null,
      "outputs": []
    },
    {
      "cell_type": "code",
      "source": [
        "with open(\"file.text\",\"r\") as fileobj:\n",
        "  for line in fileobj.readline():\n",
        "     print(line.strip())\n",
        "\n"
      ],
      "metadata": {
        "id": "9i5gXB7tlqi6"
      },
      "execution_count": null,
      "outputs": []
    },
    {
      "cell_type": "code",
      "source": [
        "#unpacking karna\n",
        "mylist=[2,3,4,5]\n",
        "x,y,z,w=mylist\n",
        "print(y)"
      ],
      "metadata": {
        "colab": {
          "base_uri": "https://localhost:8080/"
        },
        "id": "Hvy2U8zlzXU5",
        "outputId": "9f98a98b-c5d0-417d-df4d-4aa8a4b30a5b"
      },
      "execution_count": null,
      "outputs": [
        {
          "output_type": "stream",
          "name": "stdout",
          "text": [
            "3\n"
          ]
        }
      ]
    },
    {
      "cell_type": "code",
      "source": [
        "#exception handling\n",
        "#try ,except\n",
        "\n",
        "try:\n",
        "  print(\"hello\")\n",
        "  # x=10\n",
        "  # x/num\n",
        "\n",
        "  x=\"tushar\"\n",
        "  x[10]\n",
        "  print(\"hey\")\n",
        "except (ZeroDivisionError,NameError) as z:\n",
        "\n",
        "  print(\"error :\",z)\n",
        "\n",
        "except Exception as e:\n",
        "  print(e,\":error occured\")\n",
        "\n",
        "\n",
        "\n"
      ],
      "metadata": {
        "colab": {
          "base_uri": "https://localhost:8080/"
        },
        "id": "o0Qgi6xLlqmH",
        "outputId": "0e63585c-4281-4163-85ab-11f0556035c9"
      },
      "execution_count": null,
      "outputs": [
        {
          "output_type": "stream",
          "name": "stdout",
          "text": [
            "hello\n",
            "string index out of range :error occured\n"
          ]
        }
      ]
    },
    {
      "cell_type": "code",
      "source": [
        "try:\n",
        "  print(\"hello\")\n",
        "  x=10\n",
        "  x/0\n",
        "  print(\"hey\")\n",
        "\n",
        "\n",
        "except Exception as e:\n",
        "  print(e,\":error occured\")\n",
        "\n",
        "else:\n",
        "  print(\"try block mai error nhi hai \")"
      ],
      "metadata": {
        "colab": {
          "base_uri": "https://localhost:8080/"
        },
        "id": "eT09FEDGlq5S",
        "outputId": "90e8aab9-8a56-44cf-fff6-fc4ca74f41d3"
      },
      "execution_count": null,
      "outputs": [
        {
          "output_type": "stream",
          "name": "stdout",
          "text": [
            "hello\n",
            "division by zero :error occured\n"
          ]
        }
      ]
    },
    {
      "cell_type": "code",
      "source": [
        "#take input user ones number provide we have drop same number of mesage to go"
      ],
      "metadata": {
        "id": "nnD995Tu1YiO"
      },
      "execution_count": null,
      "outputs": []
    },
    {
      "cell_type": "code",
      "source": [],
      "metadata": {
        "id": "tVpUc5D81Ymj"
      },
      "execution_count": null,
      "outputs": []
    },
    {
      "cell_type": "code",
      "source": [],
      "metadata": {
        "id": "hcU7otMf1Ypl"
      },
      "execution_count": null,
      "outputs": []
    },
    {
      "cell_type": "code",
      "source": [],
      "metadata": {
        "id": "o2IYrJaC1Yt0"
      },
      "execution_count": null,
      "outputs": []
    },
    {
      "cell_type": "code",
      "source": [],
      "metadata": {
        "id": "xY1OG8Km1Yxt"
      },
      "execution_count": null,
      "outputs": []
    },
    {
      "cell_type": "code",
      "source": [],
      "metadata": {
        "id": "u7BrpG_Q1Y0j"
      },
      "execution_count": null,
      "outputs": []
    },
    {
      "cell_type": "code",
      "source": [],
      "metadata": {
        "id": "af9ppxaM1Y3O"
      },
      "execution_count": null,
      "outputs": []
    }
  ]
}